{
  "cells": [
    {
      "cell_type": "code",
      "execution_count": 1,
      "metadata": {
        "colab": {
          "base_uri": "https://localhost:8080/",
          "height": 0
        },
        "id": "-vwULKiGhwvR",
        "outputId": "641908ac-ee7a-41a7-bfcf-363e4cfd7a5a"
      },
      "outputs": [
        {
          "output_type": "stream",
          "name": "stdout",
          "text": [
            "Requirement already satisfied: transformers in /usr/local/lib/python3.10/dist-packages (4.44.2)\n",
            "Requirement already satisfied: filelock in /usr/local/lib/python3.10/dist-packages (from transformers) (3.15.4)\n",
            "Requirement already satisfied: huggingface-hub<1.0,>=0.23.2 in /usr/local/lib/python3.10/dist-packages (from transformers) (0.23.5)\n",
            "Requirement already satisfied: numpy>=1.17 in /usr/local/lib/python3.10/dist-packages (from transformers) (1.26.4)\n",
            "Requirement already satisfied: packaging>=20.0 in /usr/local/lib/python3.10/dist-packages (from transformers) (24.1)\n",
            "Requirement already satisfied: pyyaml>=5.1 in /usr/local/lib/python3.10/dist-packages (from transformers) (6.0.2)\n",
            "Requirement already satisfied: regex!=2019.12.17 in /usr/local/lib/python3.10/dist-packages (from transformers) (2024.5.15)\n",
            "Requirement already satisfied: requests in /usr/local/lib/python3.10/dist-packages (from transformers) (2.32.3)\n",
            "Requirement already satisfied: safetensors>=0.4.1 in /usr/local/lib/python3.10/dist-packages (from transformers) (0.4.4)\n",
            "Requirement already satisfied: tokenizers<0.20,>=0.19 in /usr/local/lib/python3.10/dist-packages (from transformers) (0.19.1)\n",
            "Requirement already satisfied: tqdm>=4.27 in /usr/local/lib/python3.10/dist-packages (from transformers) (4.66.5)\n",
            "Requirement already satisfied: fsspec>=2023.5.0 in /usr/local/lib/python3.10/dist-packages (from huggingface-hub<1.0,>=0.23.2->transformers) (2024.6.1)\n",
            "Requirement already satisfied: typing-extensions>=3.7.4.3 in /usr/local/lib/python3.10/dist-packages (from huggingface-hub<1.0,>=0.23.2->transformers) (4.12.2)\n",
            "Requirement already satisfied: charset-normalizer<4,>=2 in /usr/local/lib/python3.10/dist-packages (from requests->transformers) (3.3.2)\n",
            "Requirement already satisfied: idna<4,>=2.5 in /usr/local/lib/python3.10/dist-packages (from requests->transformers) (3.7)\n",
            "Requirement already satisfied: urllib3<3,>=1.21.1 in /usr/local/lib/python3.10/dist-packages (from requests->transformers) (2.0.7)\n",
            "Requirement already satisfied: certifi>=2017.4.17 in /usr/local/lib/python3.10/dist-packages (from requests->transformers) (2024.7.4)\n"
          ]
        }
      ],
      "source": [
        "pip install --upgrade transformers"
      ]
    },
    {
      "cell_type": "code",
      "execution_count": 2,
      "metadata": {
        "colab": {
          "base_uri": "https://localhost:8080/",
          "height": 0
        },
        "id": "A4FmUi0aiIpf",
        "outputId": "3b9545e8-8374-4d1d-974f-c383a8322ead"
      },
      "outputs": [
        {
          "output_type": "stream",
          "name": "stdout",
          "text": [
            "Requirement already satisfied: sentencepiece in /usr/local/lib/python3.10/dist-packages (0.1.99)\n"
          ]
        }
      ],
      "source": [
        "!pip install sentencepiece"
      ]
    },
    {
      "cell_type": "code",
      "execution_count": 3,
      "metadata": {
        "colab": {
          "base_uri": "https://localhost:8080/",
          "height": 0
        },
        "id": "MjlDYi9OiMJ-",
        "outputId": "06af3980-f353-49e2-d083-ae65a59b3bd7"
      },
      "outputs": [
        {
          "output_type": "stream",
          "name": "stdout",
          "text": [
            "Requirement already satisfied: torch in /usr/local/lib/python3.10/dist-packages (2.3.1+cu121)\n",
            "Requirement already satisfied: filelock in /usr/local/lib/python3.10/dist-packages (from torch) (3.15.4)\n",
            "Requirement already satisfied: typing-extensions>=4.8.0 in /usr/local/lib/python3.10/dist-packages (from torch) (4.12.2)\n",
            "Requirement already satisfied: sympy in /usr/local/lib/python3.10/dist-packages (from torch) (1.13.2)\n",
            "Requirement already satisfied: networkx in /usr/local/lib/python3.10/dist-packages (from torch) (3.3)\n",
            "Requirement already satisfied: jinja2 in /usr/local/lib/python3.10/dist-packages (from torch) (3.1.4)\n",
            "Requirement already satisfied: fsspec in /usr/local/lib/python3.10/dist-packages (from torch) (2024.6.1)\n",
            "Collecting nvidia-cuda-nvrtc-cu12==12.1.105 (from torch)\n",
            "  Using cached nvidia_cuda_nvrtc_cu12-12.1.105-py3-none-manylinux1_x86_64.whl.metadata (1.5 kB)\n",
            "Collecting nvidia-cuda-runtime-cu12==12.1.105 (from torch)\n",
            "  Using cached nvidia_cuda_runtime_cu12-12.1.105-py3-none-manylinux1_x86_64.whl.metadata (1.5 kB)\n",
            "Collecting nvidia-cuda-cupti-cu12==12.1.105 (from torch)\n",
            "  Using cached nvidia_cuda_cupti_cu12-12.1.105-py3-none-manylinux1_x86_64.whl.metadata (1.6 kB)\n",
            "Collecting nvidia-cudnn-cu12==8.9.2.26 (from torch)\n",
            "  Using cached nvidia_cudnn_cu12-8.9.2.26-py3-none-manylinux1_x86_64.whl.metadata (1.6 kB)\n",
            "Collecting nvidia-cublas-cu12==12.1.3.1 (from torch)\n",
            "  Using cached nvidia_cublas_cu12-12.1.3.1-py3-none-manylinux1_x86_64.whl.metadata (1.5 kB)\n",
            "Collecting nvidia-cufft-cu12==11.0.2.54 (from torch)\n",
            "  Using cached nvidia_cufft_cu12-11.0.2.54-py3-none-manylinux1_x86_64.whl.metadata (1.5 kB)\n",
            "Collecting nvidia-curand-cu12==10.3.2.106 (from torch)\n",
            "  Using cached nvidia_curand_cu12-10.3.2.106-py3-none-manylinux1_x86_64.whl.metadata (1.5 kB)\n",
            "Collecting nvidia-cusolver-cu12==11.4.5.107 (from torch)\n",
            "  Using cached nvidia_cusolver_cu12-11.4.5.107-py3-none-manylinux1_x86_64.whl.metadata (1.6 kB)\n",
            "Collecting nvidia-cusparse-cu12==12.1.0.106 (from torch)\n",
            "  Using cached nvidia_cusparse_cu12-12.1.0.106-py3-none-manylinux1_x86_64.whl.metadata (1.6 kB)\n",
            "Collecting nvidia-nccl-cu12==2.20.5 (from torch)\n",
            "  Using cached nvidia_nccl_cu12-2.20.5-py3-none-manylinux2014_x86_64.whl.metadata (1.8 kB)\n",
            "Collecting nvidia-nvtx-cu12==12.1.105 (from torch)\n",
            "  Using cached nvidia_nvtx_cu12-12.1.105-py3-none-manylinux1_x86_64.whl.metadata (1.7 kB)\n",
            "Requirement already satisfied: triton==2.3.1 in /usr/local/lib/python3.10/dist-packages (from torch) (2.3.1)\n",
            "Collecting nvidia-nvjitlink-cu12 (from nvidia-cusolver-cu12==11.4.5.107->torch)\n",
            "  Using cached nvidia_nvjitlink_cu12-12.6.20-py3-none-manylinux2014_x86_64.whl.metadata (1.5 kB)\n",
            "Requirement already satisfied: MarkupSafe>=2.0 in /usr/local/lib/python3.10/dist-packages (from jinja2->torch) (2.1.5)\n",
            "Requirement already satisfied: mpmath<1.4,>=1.1.0 in /usr/local/lib/python3.10/dist-packages (from sympy->torch) (1.3.0)\n",
            "Using cached nvidia_cublas_cu12-12.1.3.1-py3-none-manylinux1_x86_64.whl (410.6 MB)\n",
            "Using cached nvidia_cuda_cupti_cu12-12.1.105-py3-none-manylinux1_x86_64.whl (14.1 MB)\n",
            "Using cached nvidia_cuda_nvrtc_cu12-12.1.105-py3-none-manylinux1_x86_64.whl (23.7 MB)\n",
            "Using cached nvidia_cuda_runtime_cu12-12.1.105-py3-none-manylinux1_x86_64.whl (823 kB)\n",
            "Using cached nvidia_cudnn_cu12-8.9.2.26-py3-none-manylinux1_x86_64.whl (731.7 MB)\n",
            "Using cached nvidia_cufft_cu12-11.0.2.54-py3-none-manylinux1_x86_64.whl (121.6 MB)\n",
            "Using cached nvidia_curand_cu12-10.3.2.106-py3-none-manylinux1_x86_64.whl (56.5 MB)\n",
            "Using cached nvidia_cusolver_cu12-11.4.5.107-py3-none-manylinux1_x86_64.whl (124.2 MB)\n",
            "Using cached nvidia_cusparse_cu12-12.1.0.106-py3-none-manylinux1_x86_64.whl (196.0 MB)\n",
            "Using cached nvidia_nccl_cu12-2.20.5-py3-none-manylinux2014_x86_64.whl (176.2 MB)\n",
            "Using cached nvidia_nvtx_cu12-12.1.105-py3-none-manylinux1_x86_64.whl (99 kB)\n",
            "Using cached nvidia_nvjitlink_cu12-12.6.20-py3-none-manylinux2014_x86_64.whl (19.7 MB)\n",
            "Installing collected packages: nvidia-nvtx-cu12, nvidia-nvjitlink-cu12, nvidia-nccl-cu12, nvidia-curand-cu12, nvidia-cufft-cu12, nvidia-cuda-runtime-cu12, nvidia-cuda-nvrtc-cu12, nvidia-cuda-cupti-cu12, nvidia-cublas-cu12, nvidia-cusparse-cu12, nvidia-cudnn-cu12, nvidia-cusolver-cu12\n",
            "Successfully installed nvidia-cublas-cu12-12.1.3.1 nvidia-cuda-cupti-cu12-12.1.105 nvidia-cuda-nvrtc-cu12-12.1.105 nvidia-cuda-runtime-cu12-12.1.105 nvidia-cudnn-cu12-8.9.2.26 nvidia-cufft-cu12-11.0.2.54 nvidia-curand-cu12-10.3.2.106 nvidia-cusolver-cu12-11.4.5.107 nvidia-cusparse-cu12-12.1.0.106 nvidia-nccl-cu12-2.20.5 nvidia-nvjitlink-cu12-12.6.20 nvidia-nvtx-cu12-12.1.105\n"
          ]
        }
      ],
      "source": [
        "!pip install torch"
      ]
    },
    {
      "cell_type": "code",
      "execution_count": 4,
      "metadata": {
        "colab": {
          "base_uri": "https://localhost:8080/",
          "height": 0
        },
        "id": "L5xdKhD1iL-h",
        "outputId": "adb518c6-a9ca-4ce2-812e-f4ba20539101"
      },
      "outputs": [
        {
          "output_type": "stream",
          "name": "stdout",
          "text": [
            "Requirement already satisfied: torch in /usr/local/lib/python3.10/dist-packages (2.3.1+cu121)\n",
            "Requirement already satisfied: torchvision in /usr/local/lib/python3.10/dist-packages (0.18.1+cu121)\n",
            "Requirement already satisfied: torchaudio in /usr/local/lib/python3.10/dist-packages (2.3.1+cu121)\n",
            "Requirement already satisfied: filelock in /usr/local/lib/python3.10/dist-packages (from torch) (3.15.4)\n",
            "Requirement already satisfied: typing-extensions>=4.8.0 in /usr/local/lib/python3.10/dist-packages (from torch) (4.12.2)\n",
            "Requirement already satisfied: sympy in /usr/local/lib/python3.10/dist-packages (from torch) (1.13.2)\n",
            "Requirement already satisfied: networkx in /usr/local/lib/python3.10/dist-packages (from torch) (3.3)\n",
            "Requirement already satisfied: jinja2 in /usr/local/lib/python3.10/dist-packages (from torch) (3.1.4)\n",
            "Requirement already satisfied: fsspec in /usr/local/lib/python3.10/dist-packages (from torch) (2024.6.1)\n",
            "Requirement already satisfied: nvidia-cuda-nvrtc-cu12==12.1.105 in /usr/local/lib/python3.10/dist-packages (from torch) (12.1.105)\n",
            "Requirement already satisfied: nvidia-cuda-runtime-cu12==12.1.105 in /usr/local/lib/python3.10/dist-packages (from torch) (12.1.105)\n",
            "Requirement already satisfied: nvidia-cuda-cupti-cu12==12.1.105 in /usr/local/lib/python3.10/dist-packages (from torch) (12.1.105)\n",
            "Requirement already satisfied: nvidia-cudnn-cu12==8.9.2.26 in /usr/local/lib/python3.10/dist-packages (from torch) (8.9.2.26)\n",
            "Requirement already satisfied: nvidia-cublas-cu12==12.1.3.1 in /usr/local/lib/python3.10/dist-packages (from torch) (12.1.3.1)\n",
            "Requirement already satisfied: nvidia-cufft-cu12==11.0.2.54 in /usr/local/lib/python3.10/dist-packages (from torch) (11.0.2.54)\n",
            "Requirement already satisfied: nvidia-curand-cu12==10.3.2.106 in /usr/local/lib/python3.10/dist-packages (from torch) (10.3.2.106)\n",
            "Requirement already satisfied: nvidia-cusolver-cu12==11.4.5.107 in /usr/local/lib/python3.10/dist-packages (from torch) (11.4.5.107)\n",
            "Requirement already satisfied: nvidia-cusparse-cu12==12.1.0.106 in /usr/local/lib/python3.10/dist-packages (from torch) (12.1.0.106)\n",
            "Requirement already satisfied: nvidia-nccl-cu12==2.20.5 in /usr/local/lib/python3.10/dist-packages (from torch) (2.20.5)\n",
            "Requirement already satisfied: nvidia-nvtx-cu12==12.1.105 in /usr/local/lib/python3.10/dist-packages (from torch) (12.1.105)\n",
            "Requirement already satisfied: triton==2.3.1 in /usr/local/lib/python3.10/dist-packages (from torch) (2.3.1)\n",
            "Requirement already satisfied: nvidia-nvjitlink-cu12 in /usr/local/lib/python3.10/dist-packages (from nvidia-cusolver-cu12==11.4.5.107->torch) (12.6.20)\n",
            "Requirement already satisfied: numpy in /usr/local/lib/python3.10/dist-packages (from torchvision) (1.26.4)\n",
            "Requirement already satisfied: pillow!=8.3.*,>=5.3.0 in /usr/local/lib/python3.10/dist-packages (from torchvision) (9.4.0)\n",
            "Requirement already satisfied: MarkupSafe>=2.0 in /usr/local/lib/python3.10/dist-packages (from jinja2->torch) (2.1.5)\n",
            "Requirement already satisfied: mpmath<1.4,>=1.1.0 in /usr/local/lib/python3.10/dist-packages (from sympy->torch) (1.3.0)\n"
          ]
        }
      ],
      "source": [
        "!pip install torch torchvision torchaudio"
      ]
    },
    {
      "cell_type": "code",
      "execution_count": 5,
      "metadata": {
        "colab": {
          "base_uri": "https://localhost:8080/",
          "height": 0
        },
        "id": "jqy8dDbMirTb",
        "outputId": "dfbf9dfa-7de7-4a6e-f4ff-ea72b1607bc2"
      },
      "outputs": [
        {
          "output_type": "stream",
          "name": "stdout",
          "text": [
            "2.3.1+cu121\n"
          ]
        }
      ],
      "source": [
        "import torch\n",
        "print(torch.__version__)"
      ]
    },
    {
      "cell_type": "code",
      "execution_count": 6,
      "metadata": {
        "colab": {
          "base_uri": "https://localhost:8080/",
          "height": 0
        },
        "id": "AfS_8VUnjJ3O",
        "outputId": "a9c7ad39-cb26-4bae-b77c-b6d732540923"
      },
      "outputs": [
        {
          "output_type": "stream",
          "name": "stdout",
          "text": [
            "Name: sentencepiece\n",
            "Version: 0.1.99\n",
            "Summary: SentencePiece python wrapper\n",
            "Home-page: https://github.com/google/sentencepiece\n",
            "Author: Taku Kudo\n",
            "Author-email: taku@google.com\n",
            "License: Apache\n",
            "Location: /usr/local/lib/python3.10/dist-packages\n",
            "Requires: \n",
            "Required-by: \n"
          ]
        }
      ],
      "source": [
        "pip show sentencepiece"
      ]
    },
    {
      "cell_type": "code",
      "execution_count": 7,
      "metadata": {
        "colab": {
          "base_uri": "https://localhost:8080/",
          "height": 0
        },
        "id": "lM7dm0_XjNzD",
        "outputId": "4ec46ff9-b4e9-4b23-d74d-1d2334d26b6d"
      },
      "outputs": [
        {
          "output_type": "stream",
          "name": "stdout",
          "text": [
            "SentencePiece imported successfully.\n"
          ]
        }
      ],
      "source": [
        "import sentencepiece\n",
        "print(\"SentencePiece imported successfully.\")"
      ]
    },
    {
      "cell_type": "code",
      "execution_count": 8,
      "metadata": {
        "colab": {
          "base_uri": "https://localhost:8080/",
          "height": 0
        },
        "id": "N1nleWkrjRz4",
        "outputId": "692a2953-57b3-486c-d28f-f0581d95c0e9"
      },
      "outputs": [
        {
          "output_type": "stream",
          "name": "stderr",
          "text": [
            "/usr/local/lib/python3.10/dist-packages/huggingface_hub/utils/_token.py:89: UserWarning: \n",
            "The secret `HF_TOKEN` does not exist in your Colab secrets.\n",
            "To authenticate with the Hugging Face Hub, create a token in your settings tab (https://huggingface.co/settings/tokens), set it as secret in your Google Colab and restart your session.\n",
            "You will be able to reuse this secret in all of your notebooks.\n",
            "Please note that authentication is recommended but still optional to access public models or datasets.\n",
            "  warnings.warn(\n",
            "You are using the default legacy behaviour of the <class 'transformers.models.t5.tokenization_t5.T5Tokenizer'>. This is expected, and simply means that the `legacy` (previous) behavior will be used so nothing changes for you. If you want to use the new behaviour, set `legacy=False`. This should only be set if you understand what it means, and thoroughly read the reason why this was added as explained in https://github.com/huggingface/transformers/pull/24565\n"
          ]
        },
        {
          "output_type": "stream",
          "name": "stdout",
          "text": [
            "T5Tokenizer loaded successfully.\n"
          ]
        }
      ],
      "source": [
        "from transformers import T5Tokenizer\n",
        "try:\n",
        "    tokenizer=T5Tokenizer.from_pretrained('t5-small')\n",
        "    print(\"T5Tokenizer loaded successfully.\")\n",
        "except Exception as e:\n",
        "    print(f\"Error: {e}\")"
      ]
    },
    {
      "cell_type": "code",
      "execution_count": 9,
      "metadata": {
        "id": "oLyhoD1DjWbB"
      },
      "outputs": [],
      "source": [
        "#How2sign  dataset\n",
        "import json\n",
        "import os.path\n",
        "\n",
        "import numpy as np #importing necessary libraries\n",
        "import pandas as pd\n",
        "\n",
        "\n",
        "class How2signDataset:\n",
        "    def __init__(self, json_files, csv_file, seq_len=183, time_len=512):\n",
        "        self.seq_len = seq_len\n",
        "        self.time_len = time_len\n",
        "        self.json_files = json_files\n",
        "        self.csv_file = csv_file\n",
        "\n",
        "        self.sentence_dict = self.load_y()\n",
        "\n",
        "    def get_x(self, x_path):\n",
        "        # Load the JSON data\n",
        "        with open(x_path, 'r') as f:\n",
        "            data = json.load(f)\n",
        "\n",
        "        # Extract the hand_pose_face keypoints\n",
        "        hand_pose_faces = [person['hand_pose_face'] for person in data['people']]\n",
        "\n",
        "        hand_pose_faces = np.array(hand_pose_faces)\n",
        "        hand_pose_faces = hand_pose_faces.reshape(1, -1, self.seq_len)\n",
        "\n",
        "        # Create an array to store the padded data\n",
        "        x = np.zeros((1, self.time_len, self.seq_len))\n",
        "\n",
        "        # Fill the padded array with the actual data\n",
        "        seq_length = len(hand_pose_faces[0])\n",
        "        x[:, :seq_length, :] = hand_pose_faces[:, :seq_length, :]\n",
        "\n",
        "        return x\n",
        "\n",
        "    def load_y(self):\n",
        "        data = pd.read_csv(self.csv_file, delimiter='\\t', on_bad_lines='skip')\n",
        "        df = data[['SENTENCE_NAME', 'SENTENCE']]\n",
        "        sentence_dict = pd.Series(df.SENTENCE.values, index=df.SENTENCE_NAME).to_dict()\n",
        "\n",
        "        return sentence_dict\n",
        "\n",
        "    def get_y(self, x_base_path):\n",
        "        y = self.sentence_dict.get(x_base_path, \"0\")\n",
        "\n",
        "        return y\n",
        "\n",
        "    def how2sign_keypoints_sentence(self):\n",
        "        # Load the data from multiple files\n",
        "        x = [self.get_x(json_file) for json_file in self.json_files]\n",
        "        x = np.concatenate(x, axis=0)\n",
        "\n",
        "        json_files_base = [json_file.split(\".\")[0] for json_file in self.json_files]\n",
        "        print(json_files_base)\n",
        "        y = [self.get_y(json_file_base) for json_file_base in json_files_base]\n",
        "        y = np.array(y)\n",
        "\n",
        "        # Concatenate the data from the files\n",
        "        return x, y"
      ]
    },
    {
      "cell_type": "code",
      "execution_count": 11,
      "metadata": {
        "colab": {
          "base_uri": "https://localhost:8080/",
          "height": 0
        },
        "id": "hI5fNeeejYp7",
        "outputId": "2e72317e-cb96-48c8-f307-e960d94d9e76"
      },
      "outputs": [
        {
          "output_type": "stream",
          "name": "stdout",
          "text": [
            "['/content/drive/MyDrive/CO6qyvvglAE_18-5-rgb_front']\n",
            "[[[0.64002734 0.63365875 0.639195   ... 0.5492125  0.30881625 0.887098  ]\n",
            "  [0.64035156 0.62237875 0.580242   ... 0.55052266 0.30683125 0.922378  ]\n",
            "  [0.63711953 0.59722625 0.608995   ... 0.55191484 0.30503375 0.947329  ]\n",
            "  ...\n",
            "  [0.         0.         0.         ... 0.         0.         0.        ]\n",
            "  [0.         0.         0.         ... 0.         0.         0.        ]\n",
            "  [0.         0.         0.         ... 0.         0.         0.        ]]]\n",
            "['0']\n",
            "----------------------------------------------------------------------------------------------------\n",
            "(1, 512, 183)\n",
            "(1,)\n"
          ]
        }
      ],
      "source": [
        "json_files = [\"/content/drive/MyDrive/CO6qyvvglAE_18-5-rgb_front.json\"]\n",
        "csv_file = \"/content/drive/MyDrive/how2sign_realigned_val.csv\"\n",
        "\n",
        "# json_files = find_files(\"data/how2sign/realigned_val\", pattern='**/*.json', interval=1)\n",
        "dataset = How2signDataset(json_files=json_files, csv_file=csv_file)\n",
        "x, y = dataset.how2sign_keypoints_sentence()\n",
        "\n",
        "print(x)\n",
        "print(y)\n",
        "print('-'*100)\n",
        "print(x.shape)\n",
        "print(y.shape)"
      ]
    },
    {
      "cell_type": "code",
      "source": [
        "from torch import nn\n",
        "\n",
        "\n",
        "def pair(t):\n",
        "    return t if isinstance(t, tuple) else (t, t)\n",
        "\n",
        "\n",
        "class PatchEmbedding(nn.Module):\n",
        "    def __init__(self, patch_dim, max_frames, dim, drop_prob=0.1, device=None):\n",
        "        \"\"\"\n",
        "        Args:\n",
        "            max_frames (int): number of frames\n",
        "            dim (int): embedding dimension\n",
        "        Returns:\n",
        "            nn.Embedding: embedding layer shaped as (batch, num_patches, dim)\n",
        "        \"\"\"\n",
        "        super().__init__()\n",
        "        self.device = device\n",
        "\n",
        "        self.to_patch_embedding = nn.Sequential(\n",
        "            nn.LayerNorm(patch_dim),\n",
        "            nn.Linear(patch_dim, dim),\n",
        "            nn.LayerNorm(dim),\n",
        "        )\n",
        "\n",
        "    def forward(self, x):\n",
        "        return self.to_patch_embedding(x)\n"
      ],
      "metadata": {
        "id": "yMu39_1ztCOR"
      },
      "execution_count": 12,
      "outputs": []
    },
    {
      "cell_type": "code",
      "source": [
        "import os\n",
        "import json\n",
        "from transformers import T5Tokenizer\n",
        "from torch.utils.data import Dataset, DataLoader\n",
        "from glob import glob\n",
        "\n",
        "import json\n",
        "import os\n",
        "\n",
        "def  find_files(directory, pattern='**/*.json'):\n",
        "    return glob(os.path.join(directory,pattern),recursive=True)\n",
        "\n",
        "'''# Define paths to your folders\n",
        "train_folder = \"/content/drive/MyDrive/train_2D_keypoints\"\n",
        "val_folder = \"/content/drive/MyDrive/val_2D_keypoints\"\n",
        "test_folder =  \"/content/drive/MyDrive/test_2D_keypoints\" '''\n",
        "\n",
        "'''# Load the datasets\n",
        "train_data = find_files(train_folder)\n",
        "val_data = find_files(val_folder)\n",
        "test_data = find_files(test_folder)'''\n",
        "\n",
        "\n",
        "\n",
        "# Tokenizer and Dataset Preparation\n",
        "tokenizer = T5Tokenizer.from_pretrained('t5-small')\n",
        "\n",
        "\n",
        "\n",
        "'''class How2signDataset(Dataset):\n",
        "    def __init__(self, texts, tokenizer, max_len):\n",
        "        self.texts = texts\n",
        "        self.tokenizer = tokenizer\n",
        "        self.max_len = max_len\n",
        "\n",
        "    def __len__(self):\n",
        "        return len(self.texts)\n",
        "\n",
        "    def __getitem__(self, idx):\n",
        "        text = self.texts[idx]\n",
        "        inputs = self.tokenizer.encode_plus(\n",
        "            text,\n",
        "            max_length=self.max_len,\n",
        "            padding='max_length',\n",
        "            truncation=True,\n",
        "            return_tensors='pt'\n",
        "        )\n",
        "        return {\n",
        "            'input_ids': inputs['input_ids'].squeeze(),\n",
        "            'attention_mask': inputs['attention_mask'].squeeze()\n",
        "        } '''\n",
        "\n",
        "# Create datasets and dataloaders\n",
        "#y data\n",
        "# In 'ipython-input-17-68a0c3077465' file, uncomment the following lines:\n",
        "train_DATA= \"//content/drive/MyDrive/train_2D_keypoints\"\n",
        "csv_file = \"/content/drive/MyDrive/how2sign_realigned_train.csv\"\n",
        "train_data=find_files(train_DATA)\n",
        "train_dataset = How2signDataset(train_data,csv_file) # Create an instance of the training dataset\n",
        "# x_train, y_train = train_data.how2sign_keypoints_sentence()\n",
        "# print(x_train.shape, y_train.shape)\n",
        "\n",
        "val_DATA= \"/content/drive/MyDrive/val_2D_keypoints\"\n",
        "csv_file = \"/content/drive/MyDrive/how2sign_realigned_val.csv\"\n",
        "val_data=find_files(val_DATA)\n",
        "# val_dataset = How2signDataset(val_data, csv_file)\n",
        "# x_val, y_val = val_data.how2sign_keypoints_sentence()\n",
        "# print(x_val.shape, y_val.shape)\n",
        "\n",
        "\n",
        "test_DATA = \"/content/drive/MyDrive/test_2D_keypoints\" # Verify this path\n",
        "csv_file = \"/content/drive/MyDrive/how2sign_realigned_test.csv\"\n",
        "test_data=find_files(test_DATA)\n",
        "# Check if test_data is empty and print a message if it is\n",
        "if not test_data:\n",
        "    print(\"No JSON files found in the directory. Please verify the path.\")\n",
        "else:\n",
        "    test_dataset = How2signDataset(test_data,csv_file)\n",
        "    x_test, y_test = test_dataset.how2sign_keypoints_sentence()\n",
        "    print(x_test.shape, y_test.shape)\n",
        "\n",
        "\n",
        "\n",
        "#train_dataloader = DataLoader(train_dataset, batch_size=8, shuffle=True)\n",
        "#val_dataloader = DataLoader(val_dataset, batch_size=8)\n",
        "test_dataloader = DataLoader(test_dataset, batch_size=8)\n"
      ],
      "metadata": {
        "colab": {
          "base_uri": "https://localhost:8080/",
          "height": 0
        },
        "id": "qKaAzYoftHu5",
        "outputId": "a826d843-8e6b-49a0-9ca3-7bee0971be3f"
      },
      "execution_count": 14,
      "outputs": [
        {
          "output_type": "stream",
          "name": "stdout",
          "text": [
            "['/content/drive/MyDrive/test_2D_keypoints/openpose_output/output/-g0iPSnQt6w_4-1-rgb_front', '/content/drive/MyDrive/test_2D_keypoints/openpose_output/output/fzQ2E3_xBZA_2-5-rgb_front', '/content/drive/MyDrive/test_2D_keypoints/openpose_output/output/fzQ2E3_xBZA_2-8-rgb_front', '/content/drive/MyDrive/test_2D_keypoints/openpose_output/output/FZCF7kPIyOk_6-1-rgb_front', '/content/drive/MyDrive/test_2D_keypoints/openpose_output/output/fzQ2E3_xBZA_3-8-rgb_front', '/content/drive/MyDrive/test_2D_keypoints/openpose_output/output/fzQ2E3_xBZA_3-5-rgb_front', '/content/drive/MyDrive/test_2D_keypoints/openpose_output/output/-g0iPSnQt6w_6-1-rgb_front', '/content/drive/MyDrive/test_2D_keypoints/openpose_output/output/FZCF7kPIyOk_7-1-rgb_front', '/content/drive/MyDrive/test_2D_keypoints/openpose_output/output/fZM3IcM2Xs4_2-5-rgb_front', '/content/drive/MyDrive/test_2D_keypoints/openpose_output/output/-g0iPSnQt6w_7-1-rgb_front', '/content/drive/MyDrive/test_2D_keypoints/openpose_output/output/fZM3IcM2Xs4_3-10-rgb_front', '/content/drive/MyDrive/test_2D_keypoints/openpose_output/output/fZM3IcM2Xs4_3-5-rgb_front', '/content/drive/MyDrive/test_2D_keypoints/openpose_output/output/fzQ2E3_xBZA_4-8-rgb_front', '/content/drive/MyDrive/test_2D_keypoints/openpose_output/output/fZM3IcM2Xs4_2-8-rgb_front', '/content/drive/MyDrive/test_2D_keypoints/openpose_output/output/-g0iPSnQt6w_8-1-rgb_front', '/content/drive/MyDrive/test_2D_keypoints/openpose_output/output/FZCF7kPIyOk_9-1-rgb_front', '/content/drive/MyDrive/test_2D_keypoints/openpose_output/output/fzQ2E3_xBZA_4-5-rgb_front', '/content/drive/MyDrive/test_2D_keypoints/openpose_output/output/fzcsY2gm7t0_0-8-rgb_front', '/content/drive/MyDrive/test_2D_keypoints/openpose_output/output/FZCF7kPIyOk_8-1-rgb_front', '/content/drive/MyDrive/test_2D_keypoints/openpose_output/output/fZM3IcM2Xs4_3-8-rgb_front', '/content/drive/MyDrive/test_2D_keypoints/openpose_output/output/fZM3IcM2Xs4_4-8-rgb_front', '/content/drive/MyDrive/test_2D_keypoints/openpose_output/output/fzcsY2gm7t0_10-8-rgb_front', '/content/drive/MyDrive/test_2D_keypoints/openpose_output/output/fzQ2E3_xBZA_5-5-rgb_front', '/content/drive/MyDrive/test_2D_keypoints/openpose_output/output/fZM3IcM2Xs4_4-5-rgb_front', '/content/drive/MyDrive/test_2D_keypoints/openpose_output/output/fZM3IcM2Xs4_4-10-rgb_front', '/content/drive/MyDrive/test_2D_keypoints/openpose_output/output/fZM3IcM2Xs4_5-10-rgb_front', '/content/drive/MyDrive/test_2D_keypoints/openpose_output/output/fzQ2E3_xBZA_6-8-rgb_front', '/content/drive/MyDrive/test_2D_keypoints/openpose_output/output/-g0sqksgyc4_1-2-rgb_front', '/content/drive/MyDrive/test_2D_keypoints/openpose_output/output/fzcsY2gm7t0_3-8-rgb_front', '/content/drive/MyDrive/test_2D_keypoints/openpose_output/output/-g0iPSnQt6w_9-1-rgb_front', '/content/drive/MyDrive/test_2D_keypoints/openpose_output/output/fzcsY2gm7t0_11-8-rgb_front', '/content/drive/MyDrive/test_2D_keypoints/openpose_output/output/fzcsY2gm7t0_2-8-rgb_front', '/content/drive/MyDrive/test_2D_keypoints/openpose_output/output/-g0sqksgyc4_0-2-rgb_front', '/content/drive/MyDrive/test_2D_keypoints/openpose_output/output/fzQ2E3_xBZA_5-8-rgb_front', '/content/drive/MyDrive/test_2D_keypoints/openpose_output/output/fzcsY2gm7t0_4-8-rgb_front', '/content/drive/MyDrive/test_2D_keypoints/openpose_output/output/fzQ2E3_xBZA_6-5-rgb_front', '/content/drive/MyDrive/test_2D_keypoints/openpose_output/output/fzQ2E3_xBZA_8-8-rgb_front', '/content/drive/MyDrive/test_2D_keypoints/openpose_output/output/-g0sqksgyc4_10-2-rgb_front', '/content/drive/MyDrive/test_2D_keypoints/openpose_output/output/fzQ2E3_xBZA_7-5-rgb_front', '/content/drive/MyDrive/test_2D_keypoints/openpose_output/output/fzQ2E3_xBZA_7-8-rgb_front', '/content/drive/MyDrive/test_2D_keypoints/openpose_output/output/fzcsY2gm7t0_5-8-rgb_front', '/content/drive/MyDrive/test_2D_keypoints/openpose_output/output/fZM3IcM2Xs4_5-5-rgb_front', '/content/drive/MyDrive/test_2D_keypoints/openpose_output/output/fzQ2E3_xBZA_8-5-rgb_front', '/content/drive/MyDrive/test_2D_keypoints/openpose_output/output/fZM3IcM2Xs4_7-8-rgb_front', '/content/drive/MyDrive/test_2D_keypoints/openpose_output/output/-g0sqksgyc4_2-2-rgb_front', '/content/drive/MyDrive/test_2D_keypoints/openpose_output/output/fZM3IcM2Xs4_7-10-rgb_front', '/content/drive/MyDrive/test_2D_keypoints/openpose_output/output/fZM3IcM2Xs4_5-8-rgb_front', '/content/drive/MyDrive/test_2D_keypoints/openpose_output/output/fzcsY2gm7t0_6-8-rgb_front', '/content/drive/MyDrive/test_2D_keypoints/openpose_output/output/fzQ2E3_xBZA_9-8-rgb_front', '/content/drive/MyDrive/test_2D_keypoints/openpose_output/output/fZM3IcM2Xs4_6-5-rgb_front', '/content/drive/MyDrive/test_2D_keypoints/openpose_output/output/fZM3IcM2Xs4_6-8-rgb_front', '/content/drive/MyDrive/test_2D_keypoints/openpose_output/output/fZM3IcM2Xs4_7-5-rgb_front', '/content/drive/MyDrive/test_2D_keypoints/openpose_output/output/fZM3IcM2Xs4_6-10-rgb_front', '/content/drive/MyDrive/test_2D_keypoints/openpose_output/output/fzcsY2gm7t0_7-8-rgb_front', '/content/drive/MyDrive/test_2D_keypoints/openpose_output/output/fzQ2E3_xBZA_9-5-rgb_front', '/content/drive/MyDrive/test_2D_keypoints/openpose_output/output/-g0sqksgyc4_3-2-rgb_front', '/content/drive/MyDrive/test_2D_keypoints/openpose_output/output/-g0sqksgyc4_7-2-rgb_front', '/content/drive/MyDrive/test_2D_keypoints/openpose_output/output/fZq8wTAYtmw_10-10-rgb_front', '/content/drive/MyDrive/test_2D_keypoints/openpose_output/output/-g0sqksgyc4_8-2-rgb_front', '/content/drive/MyDrive/test_2D_keypoints/openpose_output/output/FzQPg4aqNYc_0-1-rgb_front', '/content/drive/MyDrive/test_2D_keypoints/openpose_output/output/-g0sqksgyc4_5-2-rgb_front', '/content/drive/MyDrive/test_2D_keypoints/openpose_output/output/fZq8wTAYtmw_10-8-rgb_front', '/content/drive/MyDrive/test_2D_keypoints/openpose_output/output/-g0sqksgyc4_4-2-rgb_front', '/content/drive/MyDrive/test_2D_keypoints/openpose_output/output/fZM3IcM2Xs4_8-10-rgb_front', '/content/drive/MyDrive/test_2D_keypoints/openpose_output/output/fZM3IcM2Xs4_8-5-rgb_front', '/content/drive/MyDrive/test_2D_keypoints/openpose_output/output/fzcsY2gm7t0_8-8-rgb_front', '/content/drive/MyDrive/test_2D_keypoints/openpose_output/output/-g0sqksgyc4_6-2-rgb_front', '/content/drive/MyDrive/test_2D_keypoints/openpose_output/output/fzcsY2gm7t0_9-8-rgb_front', '/content/drive/MyDrive/test_2D_keypoints/openpose_output/output/-g0sqksgyc4_9-2-rgb_front', '/content/drive/MyDrive/test_2D_keypoints/openpose_output/output/FZd8Iv9ACVw_1-8-rgb_front', '/content/drive/MyDrive/test_2D_keypoints/openpose_output/output/FzQPg4aqNYc_12-1-rgb_front', '/content/drive/MyDrive/test_2D_keypoints/openpose_output/output/fZM3IcM2Xs4_9-10-rgb_front', '/content/drive/MyDrive/test_2D_keypoints/openpose_output/output/-g45vqccdzI_1-1-rgb_front', '/content/drive/MyDrive/test_2D_keypoints/openpose_output/output/-g45vqccdzI_2-1-rgb_front', '/content/drive/MyDrive/test_2D_keypoints/openpose_output/output/FZd8Iv9ACVw_11-8-rgb_front', '/content/drive/MyDrive/test_2D_keypoints/openpose_output/output/fZM3IcM2Xs4_8-8-rgb_front', '/content/drive/MyDrive/test_2D_keypoints/openpose_output/output/FzQPg4aqNYc_10-1-rgb_front', '/content/drive/MyDrive/test_2D_keypoints/openpose_output/output/FzQPg4aqNYc_11-1-rgb_front', '/content/drive/MyDrive/test_2D_keypoints/openpose_output/output/-g45vqccdzI_10-1-rgb_front', '/content/drive/MyDrive/test_2D_keypoints/openpose_output/output/FZd8Iv9ACVw_10-8-rgb_front', '/content/drive/MyDrive/test_2D_keypoints/openpose_output/output/fZM3IcM2Xs4_9-5-rgb_front', '/content/drive/MyDrive/test_2D_keypoints/openpose_output/output/FzQPg4aqNYc_14-1-rgb_front', '/content/drive/MyDrive/test_2D_keypoints/openpose_output/output/FZd8Iv9ACVw_12-8-rgb_front', '/content/drive/MyDrive/test_2D_keypoints/openpose_output/output/-g45vqccdzI_4-1-rgb_front', '/content/drive/MyDrive/test_2D_keypoints/openpose_output/output/fZM3IcM2Xs4_9-8-rgb_front', '/content/drive/MyDrive/test_2D_keypoints/openpose_output/output/-g45vqccdzI_5-1-rgb_front', '/content/drive/MyDrive/test_2D_keypoints/openpose_output/output/FzQPg4aqNYc_13-1-rgb_front', '/content/drive/MyDrive/test_2D_keypoints/openpose_output/output/-g45vqccdzI_3-1-rgb_front', '/content/drive/MyDrive/test_2D_keypoints/openpose_output/output/FzQPg4aqNYc_3-1-rgb_front', '/content/drive/MyDrive/test_2D_keypoints/openpose_output/output/FzQPg4aqNYc_2-1-rgb_front', '/content/drive/MyDrive/test_2D_keypoints/openpose_output/output/FzQPg4aqNYc_6-1-rgb_front', '/content/drive/MyDrive/test_2D_keypoints/openpose_output/output/FzQPg4aqNYc_5-1-rgb_front', '/content/drive/MyDrive/test_2D_keypoints/openpose_output/output/-g45vqccdzI_7-1-rgb_front', '/content/drive/MyDrive/test_2D_keypoints/openpose_output/output/-g45vqccdzI_6-1-rgb_front', '/content/drive/MyDrive/test_2D_keypoints/openpose_output/output/FzQPg4aqNYc_15-1-rgb_front', '/content/drive/MyDrive/test_2D_keypoints/openpose_output/output/FzQPg4aqNYc_4-1-rgb_front', '/content/drive/MyDrive/test_2D_keypoints/openpose_output/output/FzQPg4aqNYc_16-1-rgb_front', '/content/drive/MyDrive/test_2D_keypoints/openpose_output/output/FZd8Iv9ACVw_2-8-rgb_front', '/content/drive/MyDrive/test_2D_keypoints/openpose_output/output/FZd8Iv9ACVw_5-8-rgb_front', '/content/drive/MyDrive/test_2D_keypoints/openpose_output/output/fzrJBu2qsM8_0-10-rgb_front', '/content/drive/MyDrive/test_2D_keypoints/openpose_output/output/-g45vqccdzI_8-1-rgb_front', '/content/drive/MyDrive/test_2D_keypoints/openpose_output/output/FzQPg4aqNYc_7-1-rgb_front', '/content/drive/MyDrive/test_2D_keypoints/openpose_output/output/FZd8Iv9ACVw_3_4-8-rgb_front', '/content/drive/MyDrive/test_2D_keypoints/openpose_output/output/FzQPg4aqNYc_8-1-rgb_front', '/content/drive/MyDrive/test_2D_keypoints/openpose_output/output/FzQPg4aqNYc_9-1-rgb_front', '/content/drive/MyDrive/test_2D_keypoints/openpose_output/output/37ZtKNf6Yd8_0-1-rgb_front', '/content/drive/MyDrive/test_2D_keypoints/openpose_output/output/FzmL8SL6Bow_0-8-rgb_front', '/content/drive/MyDrive/test_2D_keypoints/openpose_output/output/FZd8Iv9ACVw_6-8-rgb_front', '/content/drive/MyDrive/test_2D_keypoints/openpose_output/output/fzrJBu2qsM8_0-8-rgb_front', '/content/drive/MyDrive/test_2D_keypoints/openpose_output/output/-g45vqccdzI_9-1-rgb_front', '/content/drive/MyDrive/test_2D_keypoints/openpose_output/output/fzrJBu2qsM8_1-10-rgb_front', '/content/drive/MyDrive/test_2D_keypoints/openpose_output/output/FZd8Iv9ACVw_7-8-rgb_front', '/content/drive/MyDrive/test_2D_keypoints/openpose_output/output/37ZtKNf6Yd8_2-1-rgb_front', '/content/drive/MyDrive/test_2D_keypoints/openpose_output/output/fzrJBu2qsM8_1-8-rgb_front', '/content/drive/MyDrive/test_2D_keypoints/openpose_output/output/FZd8Iv9ACVw_8-8-rgb_front', '/content/drive/MyDrive/test_2D_keypoints/openpose_output/output/37ZtKNf6Yd8_1-1-rgb_front', '/content/drive/MyDrive/test_2D_keypoints/openpose_output/output/FzmL8SL6Bow_1-8-rgb_front', '/content/drive/MyDrive/test_2D_keypoints/openpose_output/output/fzDHRCKr7wU_0-5-rgb_front', '/content/drive/MyDrive/test_2D_keypoints/openpose_output/output/fzDHRCKr7wU_0-8-rgb_front', '/content/drive/MyDrive/test_2D_keypoints/openpose_output/output/37ZtKNf6Yd8_3-1-rgb_front', '/content/drive/MyDrive/test_2D_keypoints/openpose_output/output/fzrJBu2qsM8_10-10-rgb_front', '/content/drive/MyDrive/test_2D_keypoints/openpose_output/output/fzDHRCKr7wU_1-5-rgb_front', '/content/drive/MyDrive/test_2D_keypoints/openpose_output/output/FZd8Iv9ACVw_9-8-rgb_front', '/content/drive/MyDrive/test_2D_keypoints/openpose_output/output/37ZtKNf6Yd8_4-1-rgb_front', '/content/drive/MyDrive/test_2D_keypoints/openpose_output/output/FzmL8SL6Bow_3-8-rgb_front', '/content/drive/MyDrive/test_2D_keypoints/openpose_output/output/fzDHRCKr7wU_10-5-rgb_front', '/content/drive/MyDrive/test_2D_keypoints/openpose_output/output/fzncPNr2Sc0_0-8-rgb_front', '/content/drive/MyDrive/test_2D_keypoints/openpose_output/output/fzrJBu2qsM8_11-10-rgb_front', '/content/drive/MyDrive/test_2D_keypoints/openpose_output/output/FzmL8SL6Bow_2-8-rgb_front', '/content/drive/MyDrive/test_2D_keypoints/openpose_output/output/fzrJBu2qsM8_11-8-rgb_front', '/content/drive/MyDrive/test_2D_keypoints/openpose_output/output/fzDHRCKr7wU_1-8-rgb_front', '/content/drive/MyDrive/test_2D_keypoints/openpose_output/output/fzrJBu2qsM8_10-8-rgb_front', '/content/drive/MyDrive/test_2D_keypoints/openpose_output/output/fzrJBu2qsM8_2-10-rgb_front', '/content/drive/MyDrive/test_2D_keypoints/openpose_output/output/37ZtKNf6Yd8_5-1-rgb_front', '/content/drive/MyDrive/test_2D_keypoints/openpose_output/output/fzDHRCKr7wU_10-8-rgb_front', '/content/drive/MyDrive/test_2D_keypoints/openpose_output/output/37ZtKNf6Yd8_6-1-rgb_front', '/content/drive/MyDrive/test_2D_keypoints/openpose_output/output/fzDHRCKr7wU_11-8-rgb_front', '/content/drive/MyDrive/test_2D_keypoints/openpose_output/output/fzDHRCKr7wU_11-5-rgb_front', '/content/drive/MyDrive/test_2D_keypoints/openpose_output/output/fzncPNr2Sc0_11-8-rgb_front', '/content/drive/MyDrive/test_2D_keypoints/openpose_output/output/fzncPNr2Sc0_10-8-rgb_front', '/content/drive/MyDrive/test_2D_keypoints/openpose_output/output/fzDHRCKr7wU_12-5-rgb_front', '/content/drive/MyDrive/test_2D_keypoints/openpose_output/output/fzDHRCKr7wU_12-8-rgb_front', '/content/drive/MyDrive/test_2D_keypoints/openpose_output/output/fzrJBu2qsM8_2-8-rgb_front', '/content/drive/MyDrive/test_2D_keypoints/openpose_output/output/37ZtKNf6Yd8_7-1-rgb_front', '/content/drive/MyDrive/test_2D_keypoints/openpose_output/output/fzDHRCKr7wU_13-5-rgb_front', '/content/drive/MyDrive/test_2D_keypoints/openpose_output/output/3ddzkmFPEBU_1-1-rgb_front', '/content/drive/MyDrive/test_2D_keypoints/openpose_output/output/fzrJBu2qsM8_3-8-rgb_front', '/content/drive/MyDrive/test_2D_keypoints/openpose_output/output/fzncPNr2Sc0_2-8-rgb_front', '/content/drive/MyDrive/test_2D_keypoints/openpose_output/output/3ddzkmFPEBU_0-1-rgb_front', '/content/drive/MyDrive/test_2D_keypoints/openpose_output/output/fzncPNr2Sc0_3-8-rgb_front', '/content/drive/MyDrive/test_2D_keypoints/openpose_output/output/fzrJBu2qsM8_3-10-rgb_front', '/content/drive/MyDrive/test_2D_keypoints/openpose_output/output/fzrJBu2qsM8_5-8-rgb_front', '/content/drive/MyDrive/test_2D_keypoints/openpose_output/output/fzDHRCKr7wU_14-5-rgb_front', '/content/drive/MyDrive/test_2D_keypoints/openpose_output/output/fzncPNr2Sc0_4-8-rgb_front', '/content/drive/MyDrive/test_2D_keypoints/openpose_output/output/fzDHRCKr7wU_14-8-rgb_front', '/content/drive/MyDrive/test_2D_keypoints/openpose_output/output/fzrJBu2qsM8_5-10-rgb_front', '/content/drive/MyDrive/test_2D_keypoints/openpose_output/output/fzrJBu2qsM8_4-8-rgb_front', '/content/drive/MyDrive/test_2D_keypoints/openpose_output/output/fzDHRCKr7wU_13-8-rgb_front', '/content/drive/MyDrive/test_2D_keypoints/openpose_output/output/fzrJBu2qsM8_4-10-rgb_front', '/content/drive/MyDrive/test_2D_keypoints/openpose_output/output/fzncPNr2Sc0_5-8-rgb_front', '/content/drive/MyDrive/test_2D_keypoints/openpose_output/output/fzncPNr2Sc0_6-8-rgb_front', '/content/drive/MyDrive/test_2D_keypoints/openpose_output/output/3ddzkmFPEBU_2-1-rgb_front', '/content/drive/MyDrive/test_2D_keypoints/openpose_output/output/fzDHRCKr7wU_16-5-rgb_front', '/content/drive/MyDrive/test_2D_keypoints/openpose_output/output/fzDHRCKr7wU_15-8-rgb_front', '/content/drive/MyDrive/test_2D_keypoints/openpose_output/output/fzncPNr2Sc0_7-8-rgb_front', '/content/drive/MyDrive/test_2D_keypoints/openpose_output/output/3ddzkmFPEBU_3-1-rgb_front', '/content/drive/MyDrive/test_2D_keypoints/openpose_output/output/fzrJBu2qsM8_6-10-rgb_front', '/content/drive/MyDrive/test_2D_keypoints/openpose_output/output/fzDHRCKr7wU_15-5-rgb_front', '/content/drive/MyDrive/test_2D_keypoints/openpose_output/output/fzrJBu2qsM8_6-8-rgb_front', '/content/drive/MyDrive/test_2D_keypoints/openpose_output/output/fzDHRCKr7wU_16-8-rgb_front', '/content/drive/MyDrive/test_2D_keypoints/openpose_output/output/fzncPNr2Sc0_9-8-rgb_front', '/content/drive/MyDrive/test_2D_keypoints/openpose_output/output/3ddzkmFPEBU_4-1-rgb_front', '/content/drive/MyDrive/test_2D_keypoints/openpose_output/output/fzncPNr2Sc0_8-8-rgb_front', '/content/drive/MyDrive/test_2D_keypoints/openpose_output/output/fzDHRCKr7wU_17-5-rgb_front', '/content/drive/MyDrive/test_2D_keypoints/openpose_output/output/3ddzkmFPEBU_5-1-rgb_front', '/content/drive/MyDrive/test_2D_keypoints/openpose_output/output/fzDHRCKr7wU_17-8-rgb_front', '/content/drive/MyDrive/test_2D_keypoints/openpose_output/output/fzrJBu2qsM8_7-10-rgb_front', '/content/drive/MyDrive/test_2D_keypoints/openpose_output/output/3ddzkmFPEBU_6-1-rgb_front', '/content/drive/MyDrive/test_2D_keypoints/openpose_output/output/fzDHRCKr7wU_18-5-rgb_front', '/content/drive/MyDrive/test_2D_keypoints/openpose_output/output/fzDHRCKr7wU_18-8-rgb_front', '/content/drive/MyDrive/test_2D_keypoints/openpose_output/output/3ddzkmFPEBU_7-1-rgb_front', '/content/drive/MyDrive/test_2D_keypoints/openpose_output/output/fzrJBu2qsM8_7-8-rgb_front', '/content/drive/MyDrive/test_2D_keypoints/openpose_output/output/3ddzkmFPEBU_8-1-rgb_front', '/content/drive/MyDrive/test_2D_keypoints/openpose_output/output/fzNnTgHa1lM_0-5-rgb_front', '/content/drive/MyDrive/test_2D_keypoints/openpose_output/output/8kAWy2YodzQ_1-1-rgb_front', '/content/drive/MyDrive/test_2D_keypoints/openpose_output/output/8kAWy2YodzQ_0-1-rgb_front', '/content/drive/MyDrive/test_2D_keypoints/openpose_output/output/fzNnTgHa1lM_1-5-rgb_front', '/content/drive/MyDrive/test_2D_keypoints/openpose_output/output/fzDHRCKr7wU_3-5-rgb_front', '/content/drive/MyDrive/test_2D_keypoints/openpose_output/output/fzrJBu2qsM8_8-10-rgb_front', '/content/drive/MyDrive/test_2D_keypoints/openpose_output/output/fzDHRCKr7wU_3-8-rgb_front', '/content/drive/MyDrive/test_2D_keypoints/openpose_output/output/8kAWy2YodzQ_12-1-rgb_front', '/content/drive/MyDrive/test_2D_keypoints/openpose_output/output/8kAWy2YodzQ_11-1-rgb_front', '/content/drive/MyDrive/test_2D_keypoints/openpose_output/output/fzrJBu2qsM8_8-8-rgb_front', '/content/drive/MyDrive/test_2D_keypoints/openpose_output/output/8kAWy2YodzQ_10-1-rgb_front', '/content/drive/MyDrive/test_2D_keypoints/openpose_output/output/fzDHRCKr7wU_4-5-rgb_front', '/content/drive/MyDrive/test_2D_keypoints/openpose_output/output/fzrJBu2qsM8_9-10-rgb_front', '/content/drive/MyDrive/test_2D_keypoints/openpose_output/output/fzDHRCKr7wU_4-8-rgb_front', '/content/drive/MyDrive/test_2D_keypoints/openpose_output/output/8kAWy2YodzQ_14-1-rgb_front', '/content/drive/MyDrive/test_2D_keypoints/openpose_output/output/fzrJBu2qsM8_9-8-rgb_front', '/content/drive/MyDrive/test_2D_keypoints/openpose_output/output/fzNnTgHa1lM_2-5-rgb_front', '/content/drive/MyDrive/test_2D_keypoints/openpose_output/output/8kAWy2YodzQ_13-1-rgb_front', '/content/drive/MyDrive/test_2D_keypoints/openpose_output/output/fzNnTgHa1lM_4-5-rgb_front', '/content/drive/MyDrive/test_2D_keypoints/openpose_output/output/FZrU_mEryAs_1-2-rgb_front', '/content/drive/MyDrive/test_2D_keypoints/openpose_output/output/8kAWy2YodzQ_15-1-rgb_front', '/content/drive/MyDrive/test_2D_keypoints/openpose_output/output/fzNnTgHa1lM_3-5-rgb_front', '/content/drive/MyDrive/test_2D_keypoints/openpose_output/output/fzDHRCKr7wU_5-5-rgb_front', '/content/drive/MyDrive/test_2D_keypoints/openpose_output/output/fzDHRCKr7wU_5-8-rgb_front', '/content/drive/MyDrive/test_2D_keypoints/openpose_output/output/fzDHRCKr7wU_6-8-rgb_front', '/content/drive/MyDrive/test_2D_keypoints/openpose_output/output/fzNnTgHa1lM_5-5-rgb_front', '/content/drive/MyDrive/test_2D_keypoints/openpose_output/output/FZrU_mEryAs_3-2-rgb_front', '/content/drive/MyDrive/test_2D_keypoints/openpose_output/output/FZrU_mEryAs_2-2-rgb_front', '/content/drive/MyDrive/test_2D_keypoints/openpose_output/output/fzDHRCKr7wU_6-5-rgb_front', '/content/drive/MyDrive/test_2D_keypoints/openpose_output/output/8kAWy2YodzQ_19-1-rgb_front', '/content/drive/MyDrive/test_2D_keypoints/openpose_output/output/FZNuNG9UBnw_0-1-rgb_front', '/content/drive/MyDrive/test_2D_keypoints/openpose_output/output/FZrU_mEryAs_4-2-rgb_front', '/content/drive/MyDrive/test_2D_keypoints/openpose_output/output/FZNuNG9UBnw_1-1-rgb_front', '/content/drive/MyDrive/test_2D_keypoints/openpose_output/output/8kAWy2YodzQ_2-1-rgb_front', '/content/drive/MyDrive/test_2D_keypoints/openpose_output/output/fzDHRCKr7wU_7-5-rgb_front', '/content/drive/MyDrive/test_2D_keypoints/openpose_output/output/fzDHRCKr7wU_7-8-rgb_front', '/content/drive/MyDrive/test_2D_keypoints/openpose_output/output/8kAWy2YodzQ_16_17_18-1-rgb_front', '/content/drive/MyDrive/test_2D_keypoints/openpose_output/output/FZrU_mEryAs_5-2-rgb_front', '/content/drive/MyDrive/test_2D_keypoints/openpose_output/output/8kAWy2YodzQ_3-1-rgb_front', '/content/drive/MyDrive/test_2D_keypoints/openpose_output/output/8kAWy2YodzQ_4-1-rgb_front', '/content/drive/MyDrive/test_2D_keypoints/openpose_output/output/FZrU_mEryAs_7-2-rgb_front', '/content/drive/MyDrive/test_2D_keypoints/openpose_output/output/FZrU_mEryAs_6-2-rgb_front', '/content/drive/MyDrive/test_2D_keypoints/openpose_output/output/FZNuNG9UBnw_2-1-rgb_front', '/content/drive/MyDrive/test_2D_keypoints/openpose_output/output/8kAWy2YodzQ_5-1-rgb_front', '/content/drive/MyDrive/test_2D_keypoints/openpose_output/output/fzDHRCKr7wU_8-5-rgb_front', '/content/drive/MyDrive/test_2D_keypoints/openpose_output/output/fzDHRCKr7wU_8-8-rgb_front', '/content/drive/MyDrive/test_2D_keypoints/openpose_output/output/8kAWy2YodzQ_9-1-rgb_front', '/content/drive/MyDrive/test_2D_keypoints/openpose_output/output/8kAWy2YodzQ_6-1-rgb_front', '/content/drive/MyDrive/test_2D_keypoints/openpose_output/output/FZNuNG9UBnw_4-1-rgb_front', '/content/drive/MyDrive/test_2D_keypoints/openpose_output/output/8kAWy2YodzQ_7-1-rgb_front', '/content/drive/MyDrive/test_2D_keypoints/openpose_output/output/FZNuNG9UBnw_3-1-rgb_front', '/content/drive/MyDrive/test_2D_keypoints/openpose_output/output/92V3oH63zbQ_0-1-rgb_front', '/content/drive/MyDrive/test_2D_keypoints/openpose_output/output/8kAWy2YodzQ_8-1-rgb_front', '/content/drive/MyDrive/test_2D_keypoints/openpose_output/output/FZrWOf-oGDk_0-8-rgb_front', '/content/drive/MyDrive/test_2D_keypoints/openpose_output/output/92V3oH63zbQ_1-1-rgb_front', '/content/drive/MyDrive/test_2D_keypoints/openpose_output/output/92V3oH63zbQ_12-1-rgb_front', '/content/drive/MyDrive/test_2D_keypoints/openpose_output/output/FZNuNG9UBnw_5-1-rgb_front', '/content/drive/MyDrive/test_2D_keypoints/openpose_output/output/92V3oH63zbQ_11-1-rgb_front', '/content/drive/MyDrive/test_2D_keypoints/openpose_output/output/FZrWOf-oGDk_1-8-rgb_front', '/content/drive/MyDrive/test_2D_keypoints/openpose_output/output/fzDHRCKr7wU_9-5-rgb_front', '/content/drive/MyDrive/test_2D_keypoints/openpose_output/output/FZrWOf-oGDk_2-8-rgb_front', '/content/drive/MyDrive/test_2D_keypoints/openpose_output/output/92V3oH63zbQ_10-1-rgb_front', '/content/drive/MyDrive/test_2D_keypoints/openpose_output/output/fzegqlecOD8_1-10-rgb_front', '/content/drive/MyDrive/test_2D_keypoints/openpose_output/output/92V3oH63zbQ_13-1-rgb_front', '/content/drive/MyDrive/test_2D_keypoints/openpose_output/output/92V3oH63zbQ_17-1-rgb_front', '/content/drive/MyDrive/test_2D_keypoints/openpose_output/output/92V3oH63zbQ_15-1-rgb_front', '/content/drive/MyDrive/test_2D_keypoints/openpose_output/output/fzDHRCKr7wU_9-8-rgb_front', '/content/drive/MyDrive/test_2D_keypoints/openpose_output/output/fzegqlecOD8_0-8-rgb_front', '/content/drive/MyDrive/test_2D_keypoints/openpose_output/output/fzegqlecOD8_0-10-rgb_front', '/content/drive/MyDrive/test_2D_keypoints/openpose_output/output/FZNuNG9UBnw_6-1-rgb_front', '/content/drive/MyDrive/test_2D_keypoints/openpose_output/output/92V3oH63zbQ_14-1-rgb_front', '/content/drive/MyDrive/test_2D_keypoints/openpose_output/output/FZrWOf-oGDk_3-8-rgb_front', '/content/drive/MyDrive/test_2D_keypoints/openpose_output/output/92V3oH63zbQ_16-1-rgb_front', '/content/drive/MyDrive/test_2D_keypoints/openpose_output/output/fzegqlecOD8_1-8-rgb_front', '/content/drive/MyDrive/test_2D_keypoints/openpose_output/output/92V3oH63zbQ_19-1-rgb_front', '/content/drive/MyDrive/test_2D_keypoints/openpose_output/output/FZrWOf-oGDk_5-8-rgb_front', '/content/drive/MyDrive/test_2D_keypoints/openpose_output/output/92V3oH63zbQ_18-1-rgb_front', '/content/drive/MyDrive/test_2D_keypoints/openpose_output/output/fzOH00UZg84_0-5-rgb_front', '/content/drive/MyDrive/test_2D_keypoints/openpose_output/output/92V3oH63zbQ_2-1-rgb_front', '/content/drive/MyDrive/test_2D_keypoints/openpose_output/output/FZNuNG9UBnw_7-1-rgb_front', '/content/drive/MyDrive/test_2D_keypoints/openpose_output/output/FZNuNG9UBnw_8-1-rgb_front', '/content/drive/MyDrive/test_2D_keypoints/openpose_output/output/FZrWOf-oGDk_4-8-rgb_front', '/content/drive/MyDrive/test_2D_keypoints/openpose_output/output/fzegqlecOD8_2-10-rgb_front', '/content/drive/MyDrive/test_2D_keypoints/openpose_output/output/fzOH00UZg84_0-8-rgb_front', '/content/drive/MyDrive/test_2D_keypoints/openpose_output/output/FZrWOf-oGDk_6-8-rgb_front', '/content/drive/MyDrive/test_2D_keypoints/openpose_output/output/FZNuNG9UBnw_9-1-rgb_front', '/content/drive/MyDrive/test_2D_keypoints/openpose_output/output/fzegqlecOD8_2-8-rgb_front', '/content/drive/MyDrive/test_2D_keypoints/openpose_output/output/FzUdcaxw_vs_0-2-rgb_front', '/content/drive/MyDrive/test_2D_keypoints/openpose_output/output/fzOH00UZg84_1-5-rgb_front', '/content/drive/MyDrive/test_2D_keypoints/openpose_output/output/fzegqlecOD8_3-10-rgb_front', '/content/drive/MyDrive/test_2D_keypoints/openpose_output/output/FZrWOf-oGDk_8-8-rgb_front', '/content/drive/MyDrive/test_2D_keypoints/openpose_output/output/92V3oH63zbQ_21-1-rgb_front', '/content/drive/MyDrive/test_2D_keypoints/openpose_output/output/FZrWOf-oGDk_7-8-rgb_front', '/content/drive/MyDrive/test_2D_keypoints/openpose_output/output/92V3oH63zbQ_20-1-rgb_front', '/content/drive/MyDrive/test_2D_keypoints/openpose_output/output/92V3oH63zbQ_22-1-rgb_front', '/content/drive/MyDrive/test_2D_keypoints/openpose_output/output/fzegqlecOD8_3-8-rgb_front', '/content/drive/MyDrive/test_2D_keypoints/openpose_output/output/fzOH00UZg84_10-5-rgb_front', '/content/drive/MyDrive/test_2D_keypoints/openpose_output/output/FzUdcaxw_vs_11-2-rgb_front', '/content/drive/MyDrive/test_2D_keypoints/openpose_output/output/FzUdcaxw_vs_10-2-rgb_front', '/content/drive/MyDrive/test_2D_keypoints/openpose_output/output/FzUdcaxw_vs_12-2-rgb_front', '/content/drive/MyDrive/test_2D_keypoints/openpose_output/output/fzOH00UZg84_1-8-rgb_front', '/content/drive/MyDrive/test_2D_keypoints/openpose_output/output/92V3oH63zbQ_23-1-rgb_front', '/content/drive/MyDrive/test_2D_keypoints/openpose_output/output/fzOH00UZg84_10-8-rgb_front', '/content/drive/MyDrive/test_2D_keypoints/openpose_output/output/FzUdcaxw_vs_1-2-rgb_front', '/content/drive/MyDrive/test_2D_keypoints/openpose_output/output/fzegqlecOD8_4-10-rgb_front', '/content/drive/MyDrive/test_2D_keypoints/openpose_output/output/92V3oH63zbQ_24-1-rgb_front', '/content/drive/MyDrive/test_2D_keypoints/openpose_output/output/fzegqlecOD8_5-10-rgb_front', '/content/drive/MyDrive/test_2D_keypoints/openpose_output/output/fzegqlecOD8_4-8-rgb_front', '/content/drive/MyDrive/test_2D_keypoints/openpose_output/output/92V3oH63zbQ_4-1-rgb_front', '/content/drive/MyDrive/test_2D_keypoints/openpose_output/output/fzOH00UZg84_11-5-rgb_front', '/content/drive/MyDrive/test_2D_keypoints/openpose_output/output/FzUdcaxw_vs_13-2-rgb_front', '/content/drive/MyDrive/test_2D_keypoints/openpose_output/output/92V3oH63zbQ_3-1-rgb_front', '/content/drive/MyDrive/test_2D_keypoints/openpose_output/output/fzegqlecOD8_5-8-rgb_front', '/content/drive/MyDrive/test_2D_keypoints/openpose_output/output/fzOH00UZg84_11-8-rgb_front', '/content/drive/MyDrive/test_2D_keypoints/openpose_output/output/92V3oH63zbQ_6-1-rgb_front', '/content/drive/MyDrive/test_2D_keypoints/openpose_output/output/92V3oH63zbQ_5-1-rgb_front', '/content/drive/MyDrive/test_2D_keypoints/openpose_output/output/92V3oH63zbQ_7-1-rgb_front', '/content/drive/MyDrive/test_2D_keypoints/openpose_output/output/FzUdcaxw_vs_14-2-rgb_front', '/content/drive/MyDrive/test_2D_keypoints/openpose_output/output/Fz-N1S0swh8_1-8-rgb_front', '/content/drive/MyDrive/test_2D_keypoints/openpose_output/output/fzOH00UZg84_12-5-rgb_front', '/content/drive/MyDrive/test_2D_keypoints/openpose_output/output/92V3oH63zbQ_8-1-rgb_front', '/content/drive/MyDrive/test_2D_keypoints/openpose_output/output/FzUdcaxw_vs_2-2-rgb_front', '/content/drive/MyDrive/test_2D_keypoints/openpose_output/output/92V3oH63zbQ_9-1-rgb_front', '/content/drive/MyDrive/test_2D_keypoints/openpose_output/output/FzUdcaxw_vs_16-2-rgb_front', '/content/drive/MyDrive/test_2D_keypoints/openpose_output/output/FzUdcaxw_vs_17-2-rgb_front', '/content/drive/MyDrive/test_2D_keypoints/openpose_output/output/FzUdcaxw_vs_15-2-rgb_front', '/content/drive/MyDrive/test_2D_keypoints/openpose_output/output/fzegqlecOD8_6-10-rgb_front', '/content/drive/MyDrive/test_2D_keypoints/openpose_output/output/FzUdcaxw_vs_18-2-rgb_front', '/content/drive/MyDrive/test_2D_keypoints/openpose_output/output/fzOH00UZg84_12-8-rgb_front', '/content/drive/MyDrive/test_2D_keypoints/openpose_output/output/Fz-N1S0swh8_10-8-rgb_front', '/content/drive/MyDrive/test_2D_keypoints/openpose_output/output/fzegqlecOD8_6-8-rgb_front', '/content/drive/MyDrive/test_2D_keypoints/openpose_output/output/FzUdcaxw_vs_4-2-rgb_front', '/content/drive/MyDrive/test_2D_keypoints/openpose_output/output/fzegqlecOD8_7-10-rgb_front', '/content/drive/MyDrive/test_2D_keypoints/openpose_output/output/FzUdcaxw_vs_5-2-rgb_front', '/content/drive/MyDrive/test_2D_keypoints/openpose_output/output/FzUdcaxw_vs_3-2-rgb_front', '/content/drive/MyDrive/test_2D_keypoints/openpose_output/output/Fz-N1S0swh8_11-8-rgb_front', '/content/drive/MyDrive/test_2D_keypoints/openpose_output/output/fZgbCwSG3Hc_0-8-rgb_front', '/content/drive/MyDrive/test_2D_keypoints/openpose_output/output/Fz-N1S0swh8_4-8-rgb_front', '/content/drive/MyDrive/test_2D_keypoints/openpose_output/output/fzOH00UZg84_13-5-rgb_front', '/content/drive/MyDrive/test_2D_keypoints/openpose_output/output/fzegqlecOD8_7-8-rgb_front', '/content/drive/MyDrive/test_2D_keypoints/openpose_output/output/Fz-N1S0swh8_3-8-rgb_front', '/content/drive/MyDrive/test_2D_keypoints/openpose_output/output/FzUdcaxw_vs_6-2-rgb_front', '/content/drive/MyDrive/test_2D_keypoints/openpose_output/output/fzegqlecOD8_8-10-rgb_front', '/content/drive/MyDrive/test_2D_keypoints/openpose_output/output/Fz-N1S0swh8_5-8-rgb_front', '/content/drive/MyDrive/test_2D_keypoints/openpose_output/output/Fz-N1S0swh8_2-8-rgb_front', '/content/drive/MyDrive/test_2D_keypoints/openpose_output/output/fzegqlecOD8_8-8-rgb_front', '/content/drive/MyDrive/test_2D_keypoints/openpose_output/output/FzUdcaxw_vs_9-2-rgb_front', '/content/drive/MyDrive/test_2D_keypoints/openpose_output/output/fzOH00UZg84_13-8-rgb_front', '/content/drive/MyDrive/test_2D_keypoints/openpose_output/output/FzUdcaxw_vs_7-2-rgb_front', '/content/drive/MyDrive/test_2D_keypoints/openpose_output/output/FzUdcaxw_vs_8-2-rgb_front', '/content/drive/MyDrive/test_2D_keypoints/openpose_output/output/fzOH00UZg84_14-5-rgb_front', '/content/drive/MyDrive/test_2D_keypoints/openpose_output/output/Fz-N1S0swh8_12-8-rgb_front', '/content/drive/MyDrive/test_2D_keypoints/openpose_output/output/fZgbCwSG3Hc_10-8-rgb_front', '/content/drive/MyDrive/test_2D_keypoints/openpose_output/output/fZgbCwSG3Hc_3-8-rgb_front', '/content/drive/MyDrive/test_2D_keypoints/openpose_output/output/fzOH00UZg84_15-5-rgb_front', '/content/drive/MyDrive/test_2D_keypoints/openpose_output/output/fzOH00UZg84_14-8-rgb_front', '/content/drive/MyDrive/test_2D_keypoints/openpose_output/output/fZgbCwSG3Hc_2-8-rgb_front', '/content/drive/MyDrive/test_2D_keypoints/openpose_output/output/Fz-N1S0swh8_6-8-rgb_front', '/content/drive/MyDrive/test_2D_keypoints/openpose_output/output/fzueHkUDyhE_1-8-rgb_front', '/content/drive/MyDrive/test_2D_keypoints/openpose_output/output/FzWvE__PamM_1-2-rgb_front', '/content/drive/MyDrive/test_2D_keypoints/openpose_output/output/fZgbCwSG3Hc_4-8-rgb_front', '/content/drive/MyDrive/test_2D_keypoints/openpose_output/output/Fz-N1S0swh8_9-8-rgb_front', '/content/drive/MyDrive/test_2D_keypoints/openpose_output/output/fzOH00UZg84_15-8-rgb_front', '/content/drive/MyDrive/test_2D_keypoints/openpose_output/output/fZgbCwSG3Hc_5-8-rgb_front', '/content/drive/MyDrive/test_2D_keypoints/openpose_output/output/Fz-N1S0swh8_8-8-rgb_front', '/content/drive/MyDrive/test_2D_keypoints/openpose_output/output/fzueHkUDyhE_3-8-rgb_front', '/content/drive/MyDrive/test_2D_keypoints/openpose_output/output/fzueHkUDyhE_2-8-rgb_front', '/content/drive/MyDrive/test_2D_keypoints/openpose_output/output/Fz-N1S0swh8_7-8-rgb_front', '/content/drive/MyDrive/test_2D_keypoints/openpose_output/output/FzWvE__PamM_3-2-rgb_front', '/content/drive/MyDrive/test_2D_keypoints/openpose_output/output/fzOH00UZg84_16-5-rgb_front', '/content/drive/MyDrive/test_2D_keypoints/openpose_output/output/FzAIlhumvMA_0-2-rgb_front', '/content/drive/MyDrive/test_2D_keypoints/openpose_output/output/fZgbCwSG3Hc_6-8-rgb_front', '/content/drive/MyDrive/test_2D_keypoints/openpose_output/output/FzWvE__PamM_2-2-rgb_front', '/content/drive/MyDrive/test_2D_keypoints/openpose_output/output/fZgbCwSG3Hc_7_8_9-8-rgb_front', '/content/drive/MyDrive/test_2D_keypoints/openpose_output/output/fZgWKh3ENoE_0-8-rgb_front', '/content/drive/MyDrive/test_2D_keypoints/openpose_output/output/FzAIlhumvMA_1-2-rgb_front', '/content/drive/MyDrive/test_2D_keypoints/openpose_output/output/FzWvE__PamM_5-2-rgb_front', '/content/drive/MyDrive/test_2D_keypoints/openpose_output/output/FzAIlhumvMA_2-2-rgb_front', '/content/drive/MyDrive/test_2D_keypoints/openpose_output/output/FzWvE__PamM_7-2-rgb_front', '/content/drive/MyDrive/test_2D_keypoints/openpose_output/output/fZgWKh3ENoE_1-8-rgb_front', '/content/drive/MyDrive/test_2D_keypoints/openpose_output/output/FzWvE__PamM_6-2-rgb_front', '/content/drive/MyDrive/test_2D_keypoints/openpose_output/output/fzOH00UZg84_16-8-rgb_front', '/content/drive/MyDrive/test_2D_keypoints/openpose_output/output/FzWvE__PamM_4-2-rgb_front', '/content/drive/MyDrive/test_2D_keypoints/openpose_output/output/fzXgYPSnaDs_0-8-rgb_front', '/content/drive/MyDrive/test_2D_keypoints/openpose_output/output/fzOH00UZg84_17-5-rgb_front', '/content/drive/MyDrive/test_2D_keypoints/openpose_output/output/fZgWKh3ENoE_10-8-rgb_front', '/content/drive/MyDrive/test_2D_keypoints/openpose_output/output/FzWvE__PamM_8-2-rgb_front', '/content/drive/MyDrive/test_2D_keypoints/openpose_output/output/fzOH00UZg84_17-8-rgb_front', '/content/drive/MyDrive/test_2D_keypoints/openpose_output/output/fZgWKh3ENoE_11-8-rgb_front', '/content/drive/MyDrive/test_2D_keypoints/openpose_output/output/FzAIlhumvMA_4-2-rgb_front', '/content/drive/MyDrive/test_2D_keypoints/openpose_output/output/fzXgYPSnaDs_1-8-rgb_front', '/content/drive/MyDrive/test_2D_keypoints/openpose_output/output/fzOH00UZg84_18-8-rgb_front', '/content/drive/MyDrive/test_2D_keypoints/openpose_output/output/FzAIlhumvMA_3-2-rgb_front', '/content/drive/MyDrive/test_2D_keypoints/openpose_output/output/fzOH00UZg84_18-5-rgb_front', '/content/drive/MyDrive/test_2D_keypoints/openpose_output/output/fZgWKh3ENoE_12-8-rgb_front', '/content/drive/MyDrive/test_2D_keypoints/openpose_output/output/FzAIlhumvMA_5-2-rgb_front', '/content/drive/MyDrive/test_2D_keypoints/openpose_output/output/fzXgYPSnaDs_2-8-rgb_front', '/content/drive/MyDrive/test_2D_keypoints/openpose_output/output/FzAIlhumvMA_6-2-rgb_front', '/content/drive/MyDrive/test_2D_keypoints/openpose_output/output/FzAIlhumvMA_7-2-rgb_front', '/content/drive/MyDrive/test_2D_keypoints/openpose_output/output/fZgWKh3ENoE_13-8-rgb_front', '/content/drive/MyDrive/test_2D_keypoints/openpose_output/output/fZgWKh3ENoE_14-8-rgb_front', '/content/drive/MyDrive/test_2D_keypoints/openpose_output/output/fzOH00UZg84_19-5-rgb_front', '/content/drive/MyDrive/test_2D_keypoints/openpose_output/output/fZgWKh3ENoE_3-8-rgb_front', '/content/drive/MyDrive/test_2D_keypoints/openpose_output/output/fZgWKh3ENoE_2-8-rgb_front', '/content/drive/MyDrive/test_2D_keypoints/openpose_output/output/fzOH00UZg84_19-8-rgb_front', '/content/drive/MyDrive/test_2D_keypoints/openpose_output/output/fzXgYPSnaDs_5-8-rgb_front', '/content/drive/MyDrive/test_2D_keypoints/openpose_output/output/fzOH00UZg84_2-8-rgb_front', '/content/drive/MyDrive/test_2D_keypoints/openpose_output/output/FzAIlhumvMA_8-2-rgb_front', '/content/drive/MyDrive/test_2D_keypoints/openpose_output/output/fzXgYPSnaDs_4-8-rgb_front', '/content/drive/MyDrive/test_2D_keypoints/openpose_output/output/fzXgYPSnaDs_3-8-rgb_front', '/content/drive/MyDrive/test_2D_keypoints/openpose_output/output/fzOH00UZg84_2-5-rgb_front', '/content/drive/MyDrive/test_2D_keypoints/openpose_output/output/fZgWKh3ENoE_6-8-rgb_front', '/content/drive/MyDrive/test_2D_keypoints/openpose_output/output/fZgWKh3ENoE_4-8-rgb_front', '/content/drive/MyDrive/test_2D_keypoints/openpose_output/output/fZgWKh3ENoE_5-8-rgb_front', '/content/drive/MyDrive/test_2D_keypoints/openpose_output/output/FzAIlhumvMA_9-2-rgb_front', '/content/drive/MyDrive/test_2D_keypoints/openpose_output/output/fzOH00UZg84_20-5-rgb_front', '/content/drive/MyDrive/test_2D_keypoints/openpose_output/output/fZgWKh3ENoE_8-8-rgb_front', '/content/drive/MyDrive/test_2D_keypoints/openpose_output/output/fZgWKh3ENoE_9-8-rgb_front', '/content/drive/MyDrive/test_2D_keypoints/openpose_output/output/fZgWKh3ENoE_7-8-rgb_front', '/content/drive/MyDrive/test_2D_keypoints/openpose_output/output/fzXgYPSnaDs_6-8-rgb_front', '/content/drive/MyDrive/test_2D_keypoints/openpose_output/output/FzaQ-Q5gSmI_1-1-rgb_front', '/content/drive/MyDrive/test_2D_keypoints/openpose_output/output/fzOH00UZg84_21-5-rgb_front', '/content/drive/MyDrive/test_2D_keypoints/openpose_output/output/fzOH00UZg84_20-8-rgb_front', '/content/drive/MyDrive/test_2D_keypoints/openpose_output/output/fzXsxNFczRA_10-8-rgb_front', '/content/drive/MyDrive/test_2D_keypoints/openpose_output/output/FzaQ-Q5gSmI_0-1-rgb_front', '/content/drive/MyDrive/test_2D_keypoints/openpose_output/output/FzaQ-Q5gSmI_11-1-rgb_front', '/content/drive/MyDrive/test_2D_keypoints/openpose_output/output/fzOH00UZg84_21-8-rgb_front', '/content/drive/MyDrive/test_2D_keypoints/openpose_output/output/fzOH00UZg84_23-5-rgb_front', '/content/drive/MyDrive/test_2D_keypoints/openpose_output/output/fzOH00UZg84_22-8-rgb_front', '/content/drive/MyDrive/test_2D_keypoints/openpose_output/output/FzaQ-Q5gSmI_10-1-rgb_front', '/content/drive/MyDrive/test_2D_keypoints/openpose_output/output/fzOH00UZg84_23-8-rgb_front', '/content/drive/MyDrive/test_2D_keypoints/openpose_output/output/fzOH00UZg84_22-5-rgb_front', '/content/drive/MyDrive/test_2D_keypoints/openpose_output/output/fzXsxNFczRA_6-8-rgb_front', '/content/drive/MyDrive/test_2D_keypoints/openpose_output/output/fZIHe3dXPR0_13-5-rgb_front', '/content/drive/MyDrive/test_2D_keypoints/openpose_output/output/fzXsxNFczRA_7-8-rgb_front', '/content/drive/MyDrive/test_2D_keypoints/openpose_output/output/fzXsxNFczRA_8-8-rgb_front', '/content/drive/MyDrive/test_2D_keypoints/openpose_output/output/fzOH00UZg84_24-5-rgb_front', '/content/drive/MyDrive/test_2D_keypoints/openpose_output/output/fZIHe3dXPR0_13-8-rgb_front', '/content/drive/MyDrive/test_2D_keypoints/openpose_output/output/FzaQ-Q5gSmI_2-1-rgb_front', '/content/drive/MyDrive/test_2D_keypoints/openpose_output/output/fzOH00UZg84_24-8-rgb_front', '/content/drive/MyDrive/test_2D_keypoints/openpose_output/output/f_zna_wG3zo_0-10-rgb_front', '/content/drive/MyDrive/test_2D_keypoints/openpose_output/output/f_zna_wG3zo_0-5-rgb_front', '/content/drive/MyDrive/test_2D_keypoints/openpose_output/output/fZIHe3dXPR0_5-8-rgb_front', '/content/drive/MyDrive/test_2D_keypoints/openpose_output/output/fzOH00UZg84_25-5-rgb_front', '/content/drive/MyDrive/test_2D_keypoints/openpose_output/output/FzaQ-Q5gSmI_3-1-rgb_front', '/content/drive/MyDrive/test_2D_keypoints/openpose_output/output/FzaQ-Q5gSmI_4-1-rgb_front', '/content/drive/MyDrive/test_2D_keypoints/openpose_output/output/fzOH00UZg84_25-8-rgb_front', '/content/drive/MyDrive/test_2D_keypoints/openpose_output/output/f_zna_wG3zo_0-8-rgb_front', '/content/drive/MyDrive/test_2D_keypoints/openpose_output/output/fzXsxNFczRA_9-8-rgb_front', '/content/drive/MyDrive/test_2D_keypoints/openpose_output/output/fZIHe3dXPR0_5-5-rgb_front', '/content/drive/MyDrive/test_2D_keypoints/openpose_output/output/f_zna_wG3zo_10-5-rgb_front', '/content/drive/MyDrive/test_2D_keypoints/openpose_output/output/f_zna_wG3zo_1-5-rgb_front', '/content/drive/MyDrive/test_2D_keypoints/openpose_output/output/FzaQ-Q5gSmI_5-1-rgb_front', '/content/drive/MyDrive/test_2D_keypoints/openpose_output/output/f_zna_wG3zo_1-8-rgb_front', '/content/drive/MyDrive/test_2D_keypoints/openpose_output/output/f_zna_wG3zo_10-8-rgb_front', '/content/drive/MyDrive/test_2D_keypoints/openpose_output/output/f_zna_wG3zo_1-10-rgb_front', '/content/drive/MyDrive/test_2D_keypoints/openpose_output/output/f_zna_wG3zo_10-10-rgb_front', '/content/drive/MyDrive/test_2D_keypoints/openpose_output/output/Fzj3jz2Imf0_0-1-rgb_front', '/content/drive/MyDrive/test_2D_keypoints/openpose_output/output/Fzj3jz2Imf0_2-1-rgb_front', '/content/drive/MyDrive/test_2D_keypoints/openpose_output/output/Fzj3jz2Imf0_1-1-rgb_front', '/content/drive/MyDrive/test_2D_keypoints/openpose_output/output/FzaQ-Q5gSmI_7-1-rgb_front', '/content/drive/MyDrive/test_2D_keypoints/openpose_output/output/FzaQ-Q5gSmI_6-1-rgb_front', '/content/drive/MyDrive/test_2D_keypoints/openpose_output/output/fzOH00UZg84_26-5-rgb_front', '/content/drive/MyDrive/test_2D_keypoints/openpose_output/output/f_zna_wG3zo_11-10-rgb_front', '/content/drive/MyDrive/test_2D_keypoints/openpose_output/output/f_zna_wG3zo_12-5-rgb_front', '/content/drive/MyDrive/test_2D_keypoints/openpose_output/output/f_zna_wG3zo_12-10-rgb_front', '/content/drive/MyDrive/test_2D_keypoints/openpose_output/output/f_zna_wG3zo_11-5-rgb_front', '/content/drive/MyDrive/test_2D_keypoints/openpose_output/output/f_zna_wG3zo_11-8-rgb_front', '/content/drive/MyDrive/test_2D_keypoints/openpose_output/output/f_zna_wG3zo_12-8-rgb_front', '/content/drive/MyDrive/test_2D_keypoints/openpose_output/output/f_zna_wG3zo_13-8-rgb_front', '/content/drive/MyDrive/test_2D_keypoints/openpose_output/output/f_zna_wG3zo_13-5-rgb_front', '/content/drive/MyDrive/test_2D_keypoints/openpose_output/output/fzOH00UZg84_26-8-rgb_front', '/content/drive/MyDrive/test_2D_keypoints/openpose_output/output/f_zna_wG3zo_14-5-rgb_front', '/content/drive/MyDrive/test_2D_keypoints/openpose_output/output/Fzj3jz2Imf0_3-1-rgb_front', '/content/drive/MyDrive/test_2D_keypoints/openpose_output/output/f_zna_wG3zo_13-10-rgb_front', '/content/drive/MyDrive/test_2D_keypoints/openpose_output/output/FzaQ-Q5gSmI_9-1-rgb_front', '/content/drive/MyDrive/test_2D_keypoints/openpose_output/output/f_zna_wG3zo_14-10-rgb_front', '/content/drive/MyDrive/test_2D_keypoints/openpose_output/output/FzaQ-Q5gSmI_8-1-rgb_front', '/content/drive/MyDrive/test_2D_keypoints/openpose_output/output/f_zna_wG3zo_15-5-rgb_front', '/content/drive/MyDrive/test_2D_keypoints/openpose_output/output/f_zna_wG3zo_14-8-rgb_front', '/content/drive/MyDrive/test_2D_keypoints/openpose_output/output/f_zna_wG3zo_15-10-rgb_front', '/content/drive/MyDrive/test_2D_keypoints/openpose_output/output/fzOH00UZg84_27-5-rgb_front', '/content/drive/MyDrive/test_2D_keypoints/openpose_output/output/fzOH00UZg84_27-8-rgb_front', '/content/drive/MyDrive/test_2D_keypoints/openpose_output/output/fzOH00UZg84_28-5-rgb_front', '/content/drive/MyDrive/test_2D_keypoints/openpose_output/output/Fzj3jz2Imf0_4-1-rgb_front', '/content/drive/MyDrive/test_2D_keypoints/openpose_output/output/FZbyRzy4huk_1-8-rgb_front', '/content/drive/MyDrive/test_2D_keypoints/openpose_output/output/f_zna_wG3zo_17-10-rgb_front', '/content/drive/MyDrive/test_2D_keypoints/openpose_output/output/f_zna_wG3zo_16-8-rgb_front', '/content/drive/MyDrive/test_2D_keypoints/openpose_output/output/f_zna_wG3zo_16-10-rgb_front', '/content/drive/MyDrive/test_2D_keypoints/openpose_output/output/f_zna_wG3zo_17-5-rgb_front', '/content/drive/MyDrive/test_2D_keypoints/openpose_output/output/f_zna_wG3zo_15-8-rgb_front', '/content/drive/MyDrive/test_2D_keypoints/openpose_output/output/f_zna_wG3zo_17-8-rgb_front', '/content/drive/MyDrive/test_2D_keypoints/openpose_output/output/f_zna_wG3zo_16-5-rgb_front', '/content/drive/MyDrive/test_2D_keypoints/openpose_output/output/f_zna_wG3zo_2-10-rgb_front', '/content/drive/MyDrive/test_2D_keypoints/openpose_output/output/f_zna_wG3zo_3-10-rgb_front', '/content/drive/MyDrive/test_2D_keypoints/openpose_output/output/f_zna_wG3zo_2-5-rgb_front', '/content/drive/MyDrive/test_2D_keypoints/openpose_output/output/FZbyRzy4huk_2-8-rgb_front', '/content/drive/MyDrive/test_2D_keypoints/openpose_output/output/fzOH00UZg84_28-8-rgb_front', '/content/drive/MyDrive/test_2D_keypoints/openpose_output/output/fzOH00UZg84_29-5-rgb_front', '/content/drive/MyDrive/test_2D_keypoints/openpose_output/output/f_zna_wG3zo_2-8-rgb_front', '/content/drive/MyDrive/test_2D_keypoints/openpose_output/output/Fzj3jz2Imf0_5_6-1-rgb_front', '/content/drive/MyDrive/test_2D_keypoints/openpose_output/output/fzOH00UZg84_29-8-rgb_front', '/content/drive/MyDrive/test_2D_keypoints/openpose_output/output/fZK9hW81XCU_10-10-rgb_front', '/content/drive/MyDrive/test_2D_keypoints/openpose_output/output/fzOH00UZg84_3-5-rgb_front', '/content/drive/MyDrive/test_2D_keypoints/openpose_output/output/f_zna_wG3zo_3-5-rgb_front', '/content/drive/MyDrive/test_2D_keypoints/openpose_output/output/f_zna_wG3zo_3-8-rgb_front', '/content/drive/MyDrive/test_2D_keypoints/openpose_output/output/FZbyRzy4huk_3-8-rgb_front', '/content/drive/MyDrive/test_2D_keypoints/openpose_output/output/f_zna_wG3zo_4-10-rgb_front', '/content/drive/MyDrive/test_2D_keypoints/openpose_output/output/f_zna_wG3zo_4-5-rgb_front', '/content/drive/MyDrive/test_2D_keypoints/openpose_output/output/FZbyRzy4huk_4-8-rgb_front', '/content/drive/MyDrive/test_2D_keypoints/openpose_output/output/fzOH00UZg84_3-8-rgb_front', '/content/drive/MyDrive/test_2D_keypoints/openpose_output/output/f_zna_wG3zo_5-8-rgb_front', '/content/drive/MyDrive/test_2D_keypoints/openpose_output/output/FZCEymcpq7I_10-1-rgb_front', '/content/drive/MyDrive/test_2D_keypoints/openpose_output/output/f_zna_wG3zo_5-5-rgb_front', '/content/drive/MyDrive/test_2D_keypoints/openpose_output/output/f_zna_wG3zo_6-10-rgb_front', '/content/drive/MyDrive/test_2D_keypoints/openpose_output/output/fZK9hW81XCU_10-5-rgb_front', '/content/drive/MyDrive/test_2D_keypoints/openpose_output/output/FZCEymcpq7I_0_1-1-rgb_front', '/content/drive/MyDrive/test_2D_keypoints/openpose_output/output/f_zna_wG3zo_5-10-rgb_front', '/content/drive/MyDrive/test_2D_keypoints/openpose_output/output/f_zna_wG3zo_4-8-rgb_front', '/content/drive/MyDrive/test_2D_keypoints/openpose_output/output/FZCEymcpq7I_11-1-rgb_front', '/content/drive/MyDrive/test_2D_keypoints/openpose_output/output/g0Abwige7MQ_6-8-rgb_front', '/content/drive/MyDrive/test_2D_keypoints/openpose_output/output/fZK9hW81XCU_9-8-rgb_front', '/content/drive/MyDrive/test_2D_keypoints/openpose_output/output/fZK9hW81XCU_10-8-rgb_front', '/content/drive/MyDrive/test_2D_keypoints/openpose_output/output/f_zna_wG3zo_6-5-rgb_front', '/content/drive/MyDrive/test_2D_keypoints/openpose_output/output/fZK9hW81XCU_9-10-rgb_front', '/content/drive/MyDrive/test_2D_keypoints/openpose_output/output/FZCEymcpq7I_12-1-rgb_front', '/content/drive/MyDrive/test_2D_keypoints/openpose_output/output/FZLxEwsoc1c_0-8-rgb_front', '/content/drive/MyDrive/test_2D_keypoints/openpose_output/output/fZK9hW81XCU_9-5-rgb_front', '/content/drive/MyDrive/test_2D_keypoints/openpose_output/output/fzOH00UZg84_30-5-rgb_front', '/content/drive/MyDrive/test_2D_keypoints/openpose_output/output/FZLxEwsoc1c_1-8-rgb_front', '/content/drive/MyDrive/test_2D_keypoints/openpose_output/output/g0QHEtNjZhI_21-10-rgb_front', '/content/drive/MyDrive/test_2D_keypoints/openpose_output/output/f_zna_wG3zo_7-10-rgb_front', '/content/drive/MyDrive/test_2D_keypoints/openpose_output/output/g0Abwige7MQ_7-8-rgb_front', '/content/drive/MyDrive/test_2D_keypoints/openpose_output/output/f_zna_wG3zo_7-5-rgb_front', '/content/drive/MyDrive/test_2D_keypoints/openpose_output/output/f_zna_wG3zo_6-8-rgb_front', '/content/drive/MyDrive/test_2D_keypoints/openpose_output/output/g0QHEtNjZhI_21-8-rgb_front', '/content/drive/MyDrive/test_2D_keypoints/openpose_output/output/f_zna_wG3zo_8-10-rgb_front', '/content/drive/MyDrive/test_2D_keypoints/openpose_output/output/g0Abwige7MQ_8-8-rgb_front', '/content/drive/MyDrive/test_2D_keypoints/openpose_output/output/g0Abwige7MQ_9-8-rgb_front', '/content/drive/MyDrive/test_2D_keypoints/openpose_output/output/f_zna_wG3zo_8-5-rgb_front', '/content/drive/MyDrive/test_2D_keypoints/openpose_output/output/fzOH00UZg84_31-5-rgb_front', '/content/drive/MyDrive/test_2D_keypoints/openpose_output/output/g0S7FAqIweA_0-8-rgb_front', '/content/drive/MyDrive/test_2D_keypoints/openpose_output/output/f_zna_wG3zo_8-8-rgb_front', '/content/drive/MyDrive/test_2D_keypoints/openpose_output/output/f_zna_wG3zo_7-8-rgb_front', '/content/drive/MyDrive/test_2D_keypoints/openpose_output/output/g0S7FAqIweA_1-8-rgb_front', '/content/drive/MyDrive/test_2D_keypoints/openpose_output/output/f_zna_wG3zo_9-10-rgb_front', '/content/drive/MyDrive/test_2D_keypoints/openpose_output/output/fzOH00UZg84_30-8-rgb_front', '/content/drive/MyDrive/test_2D_keypoints/openpose_output/output/g0fgci8L_rc_0-8-rgb_front', '/content/drive/MyDrive/test_2D_keypoints/openpose_output/output/g0S7FAqIweA_3-8-rgb_front', '/content/drive/MyDrive/test_2D_keypoints/openpose_output/output/f_zna_wG3zo_9-5-rgb_front', '/content/drive/MyDrive/test_2D_keypoints/openpose_output/output/g0fgci8L_rc_1-8-rgb_front', '/content/drive/MyDrive/test_2D_keypoints/openpose_output/output/G-0gYel1YA8_0-2-rgb_front', '/content/drive/MyDrive/test_2D_keypoints/openpose_output/output/f_zna_wG3zo_9-8-rgb_front', '/content/drive/MyDrive/test_2D_keypoints/openpose_output/output/fzOH00UZg84_31-8-rgb_front', '/content/drive/MyDrive/test_2D_keypoints/openpose_output/output/fzOH00UZg84_4-5-rgb_front', '/content/drive/MyDrive/test_2D_keypoints/openpose_output/output/g0S7FAqIweA_2-8-rgb_front', '/content/drive/MyDrive/test_2D_keypoints/openpose_output/output/g0fgci8L_rc_10-8-rgb_front', '/content/drive/MyDrive/test_2D_keypoints/openpose_output/output/g0S7FAqIweA_4-8-rgb_front', '/content/drive/MyDrive/test_2D_keypoints/openpose_output/output/g0fgci8L_rc_14-8-rgb_front', '/content/drive/MyDrive/test_2D_keypoints/openpose_output/output/g0fgci8L_rc_12-8-rgb_front', '/content/drive/MyDrive/test_2D_keypoints/openpose_output/output/fzOH00UZg84_4-8-rgb_front', '/content/drive/MyDrive/test_2D_keypoints/openpose_output/output/g0fgci8L_rc_13-8-rgb_front', '/content/drive/MyDrive/test_2D_keypoints/openpose_output/output/g0fgci8L_rc_11-8-rgb_front', '/content/drive/MyDrive/test_2D_keypoints/openpose_output/output/fzOH00UZg84_5-5-rgb_front', '/content/drive/MyDrive/test_2D_keypoints/openpose_output/output/g0fgci8L_rc_17-8-rgb_front', '/content/drive/MyDrive/test_2D_keypoints/openpose_output/output/g0fgci8L_rc_16-8-rgb_front', '/content/drive/MyDrive/test_2D_keypoints/openpose_output/output/g0S7FAqIweA_6-8-rgb_front', '/content/drive/MyDrive/test_2D_keypoints/openpose_output/output/g0fgci8L_rc_18-8-rgb_front', '/content/drive/MyDrive/test_2D_keypoints/openpose_output/output/g0fgci8L_rc_2-8-rgb_front', '/content/drive/MyDrive/test_2D_keypoints/openpose_output/output/fzOH00UZg84_5-8-rgb_front', '/content/drive/MyDrive/test_2D_keypoints/openpose_output/output/G-0gYel1YA8_1-2-rgb_front', '/content/drive/MyDrive/test_2D_keypoints/openpose_output/output/g0S7FAqIweA_5-8-rgb_front', '/content/drive/MyDrive/test_2D_keypoints/openpose_output/output/g0fgci8L_rc_15-8-rgb_front', '/content/drive/MyDrive/test_2D_keypoints/openpose_output/output/g0fgci8L_rc_19-8-rgb_front', '/content/drive/MyDrive/test_2D_keypoints/openpose_output/output/fzOH00UZg84_7-8-rgb_front', '/content/drive/MyDrive/test_2D_keypoints/openpose_output/output/fzOH00UZg84_7-5-rgb_front', '/content/drive/MyDrive/test_2D_keypoints/openpose_output/output/g0fgci8L_rc_22-8-rgb_front', '/content/drive/MyDrive/test_2D_keypoints/openpose_output/output/G-0gYel1YA8_3-2-rgb_front', '/content/drive/MyDrive/test_2D_keypoints/openpose_output/output/g0fgci8L_rc_21-8-rgb_front', '/content/drive/MyDrive/test_2D_keypoints/openpose_output/output/fzOH00UZg84_6-5-rgb_front', '/content/drive/MyDrive/test_2D_keypoints/openpose_output/output/g0fgci8L_rc_23-8-rgb_front', '/content/drive/MyDrive/test_2D_keypoints/openpose_output/output/g0fgci8L_rc_20-8-rgb_front', '/content/drive/MyDrive/test_2D_keypoints/openpose_output/output/g0fgci8L_rc_24-8-rgb_front', '/content/drive/MyDrive/test_2D_keypoints/openpose_output/output/fzOH00UZg84_6-8-rgb_front', '/content/drive/MyDrive/test_2D_keypoints/openpose_output/output/G-0gYel1YA8_2-2-rgb_front', '/content/drive/MyDrive/test_2D_keypoints/openpose_output/output/G-0gYel1YA8_5-2-rgb_front', '/content/drive/MyDrive/test_2D_keypoints/openpose_output/output/g0t4Wz5qsT8_10-8-rgb_front', '/content/drive/MyDrive/test_2D_keypoints/openpose_output/output/g0fgci8L_rc_25-8-rgb_front', '/content/drive/MyDrive/test_2D_keypoints/openpose_output/output/fzOH00UZg84_9-5-rgb_front', '/content/drive/MyDrive/test_2D_keypoints/openpose_output/output/g0fgci8L_rc_6-8-rgb_front', '/content/drive/MyDrive/test_2D_keypoints/openpose_output/output/fzOH00UZg84_8-5-rgb_front', '/content/drive/MyDrive/test_2D_keypoints/openpose_output/output/g0fgci8L_rc_4-8-rgb_front', '/content/drive/MyDrive/test_2D_keypoints/openpose_output/output/g0fgci8L_rc_3-8-rgb_front', '/content/drive/MyDrive/test_2D_keypoints/openpose_output/output/G-0gYel1YA8_4-2-rgb_front', '/content/drive/MyDrive/test_2D_keypoints/openpose_output/output/fzOH00UZg84_9-8-rgb_front', '/content/drive/MyDrive/test_2D_keypoints/openpose_output/output/g0t4Wz5qsT8_1-8-rgb_front', '/content/drive/MyDrive/test_2D_keypoints/openpose_output/output/fzOH00UZg84_8-8-rgb_front', '/content/drive/MyDrive/test_2D_keypoints/openpose_output/output/g0fgci8L_rc_5-8-rgb_front', '/content/drive/MyDrive/test_2D_keypoints/openpose_output/output/g0fgci8L_rc_7-8-rgb_front', '/content/drive/MyDrive/test_2D_keypoints/openpose_output/output/G-0gYel1YA8_6-2-rgb_front', '/content/drive/MyDrive/test_2D_keypoints/openpose_output/output/FzOQMA-CVPc_0-2-rgb_front', '/content/drive/MyDrive/test_2D_keypoints/openpose_output/output/g0fgci8L_rc_8-8-rgb_front', '/content/drive/MyDrive/test_2D_keypoints/openpose_output/output/FzOQMA-CVPc_1-2-rgb_front', '/content/drive/MyDrive/test_2D_keypoints/openpose_output/output/G-0gYel1YA8_8-2-rgb_front', '/content/drive/MyDrive/test_2D_keypoints/openpose_output/output/G-0gYel1YA8_7-2-rgb_front', '/content/drive/MyDrive/test_2D_keypoints/openpose_output/output/g0fgci8L_rc_9-8-rgb_front', '/content/drive/MyDrive/test_2D_keypoints/openpose_output/output/g0t4Wz5qsT8_12-8-rgb_front', '/content/drive/MyDrive/test_2D_keypoints/openpose_output/output/g0iNy-yPisM_0-8-rgb_front', '/content/drive/MyDrive/test_2D_keypoints/openpose_output/output/FzOQMA-CVPc_10-2-rgb_front', '/content/drive/MyDrive/test_2D_keypoints/openpose_output/output/G05uFub3YFc_0-2-rgb_front', '/content/drive/MyDrive/test_2D_keypoints/openpose_output/output/g0t4Wz5qsT8_11-8-rgb_front', '/content/drive/MyDrive/test_2D_keypoints/openpose_output/output/g0iNy-yPisM_1-8-rgb_front', '/content/drive/MyDrive/test_2D_keypoints/openpose_output/output/g0t4Wz5qsT8_13-8-rgb_front', '/content/drive/MyDrive/test_2D_keypoints/openpose_output/output/g0iNy-yPisM_11-8-rgb_front', '/content/drive/MyDrive/test_2D_keypoints/openpose_output/output/g0t4Wz5qsT8_14-8-rgb_front', '/content/drive/MyDrive/test_2D_keypoints/openpose_output/output/FzOQMA-CVPc_11-2-rgb_front', '/content/drive/MyDrive/test_2D_keypoints/openpose_output/output/g0iNy-yPisM_10-8-rgb_front', '/content/drive/MyDrive/test_2D_keypoints/openpose_output/output/FzOQMA-CVPc_2-2-rgb_front', '/content/drive/MyDrive/test_2D_keypoints/openpose_output/output/G05uFub3YFc_1-2-rgb_front', '/content/drive/MyDrive/test_2D_keypoints/openpose_output/output/G05uFub3YFc_10-2-rgb_front', '/content/drive/MyDrive/test_2D_keypoints/openpose_output/output/g0iNy-yPisM_12-8-rgb_front', '/content/drive/MyDrive/test_2D_keypoints/openpose_output/output/G05uFub3YFc_2-2-rgb_front', '/content/drive/MyDrive/test_2D_keypoints/openpose_output/output/g0iNy-yPisM_13-8-rgb_front', '/content/drive/MyDrive/test_2D_keypoints/openpose_output/output/G1GUMky8kWc_14-2-rgb_front', '/content/drive/MyDrive/test_2D_keypoints/openpose_output/output/G05uFub3YFc_3-2-rgb_front', '/content/drive/MyDrive/test_2D_keypoints/openpose_output/output/G1GUMky8kWc_15-2-rgb_front', '/content/drive/MyDrive/test_2D_keypoints/openpose_output/output/g0t4Wz5qsT8_2-8-rgb_front', '/content/drive/MyDrive/test_2D_keypoints/openpose_output/output/g0iNy-yPisM_15-8-rgb_front', '/content/drive/MyDrive/test_2D_keypoints/openpose_output/output/FzOQMA-CVPc_3-2-rgb_front', '/content/drive/MyDrive/test_2D_keypoints/openpose_output/output/g0t4Wz5qsT8_4-8-rgb_front', '/content/drive/MyDrive/test_2D_keypoints/openpose_output/output/g0t4Wz5qsT8_3-8-rgb_front', '/content/drive/MyDrive/test_2D_keypoints/openpose_output/output/g0iNy-yPisM_14-8-rgb_front', '/content/drive/MyDrive/test_2D_keypoints/openpose_output/output/G1GUMky8kWc_16-2-rgb_front', '/content/drive/MyDrive/test_2D_keypoints/openpose_output/output/g0iNy-yPisM_16-8-rgb_front', '/content/drive/MyDrive/test_2D_keypoints/openpose_output/output/G1GUMky8kWc_19-2-rgb_front', '/content/drive/MyDrive/test_2D_keypoints/openpose_output/output/G05uFub3YFc_4-2-rgb_front', '/content/drive/MyDrive/test_2D_keypoints/openpose_output/output/G1GUMky8kWc_2-2-rgb_front', '/content/drive/MyDrive/test_2D_keypoints/openpose_output/output/g0t4Wz5qsT8_5-8-rgb_front', '/content/drive/MyDrive/test_2D_keypoints/openpose_output/output/g0iNy-yPisM_17-8-rgb_front', '/content/drive/MyDrive/test_2D_keypoints/openpose_output/output/G05uFub3YFc_5-2-rgb_front', '/content/drive/MyDrive/test_2D_keypoints/openpose_output/output/g0t4Wz5qsT8_6-8-rgb_front', '/content/drive/MyDrive/test_2D_keypoints/openpose_output/output/G1GUMky8kWc_17-2-rgb_front', '/content/drive/MyDrive/test_2D_keypoints/openpose_output/output/G1GUMky8kWc_18-2-rgb_front', '/content/drive/MyDrive/test_2D_keypoints/openpose_output/output/G1GUMky8kWc_21-2-rgb_front', '/content/drive/MyDrive/test_2D_keypoints/openpose_output/output/G05uFub3YFc_6-2-rgb_front', '/content/drive/MyDrive/test_2D_keypoints/openpose_output/output/g0t4Wz5qsT8_8-8-rgb_front', '/content/drive/MyDrive/test_2D_keypoints/openpose_output/output/g0iNy-yPisM_18-8-rgb_front', '/content/drive/MyDrive/test_2D_keypoints/openpose_output/output/G1GUMky8kWc_20-2-rgb_front', '/content/drive/MyDrive/test_2D_keypoints/openpose_output/output/G1GUMky8kWc_22-2-rgb_front', '/content/drive/MyDrive/test_2D_keypoints/openpose_output/output/g0iNy-yPisM_19-8-rgb_front', '/content/drive/MyDrive/test_2D_keypoints/openpose_output/output/g0t4Wz5qsT8_7-8-rgb_front', '/content/drive/MyDrive/test_2D_keypoints/openpose_output/output/g0t4Wz5qsT8_9-8-rgb_front', '/content/drive/MyDrive/test_2D_keypoints/openpose_output/output/g0iNy-yPisM_6-8-rgb_front', '/content/drive/MyDrive/test_2D_keypoints/openpose_output/output/g0iNy-yPisM_3-8-rgb_front', '/content/drive/MyDrive/test_2D_keypoints/openpose_output/output/g0iNy-yPisM_5-8-rgb_front', '/content/drive/MyDrive/test_2D_keypoints/openpose_output/output/G1GUMky8kWc_25-2-rgb_front', '/content/drive/MyDrive/test_2D_keypoints/openpose_output/output/G1GUMky8kWc_23-2-rgb_front', '/content/drive/MyDrive/test_2D_keypoints/openpose_output/output/g0iNy-yPisM_2-8-rgb_front', '/content/drive/MyDrive/test_2D_keypoints/openpose_output/output/G1GUMky8kWc_24-2-rgb_front', '/content/drive/MyDrive/test_2D_keypoints/openpose_output/output/g0iNy-yPisM_22-8-rgb_front', '/content/drive/MyDrive/test_2D_keypoints/openpose_output/output/g0iNy-yPisM_21-8-rgb_front', '/content/drive/MyDrive/test_2D_keypoints/openpose_output/output/g0TkUiO7t4I_10-8-rgb_front', '/content/drive/MyDrive/test_2D_keypoints/openpose_output/output/g0iNy-yPisM_20-8-rgb_front', '/content/drive/MyDrive/test_2D_keypoints/openpose_output/output/G05uFub3YFc_7-2-rgb_front', '/content/drive/MyDrive/test_2D_keypoints/openpose_output/output/G1GUMky8kWc_3-2-rgb_front', '/content/drive/MyDrive/test_2D_keypoints/openpose_output/output/g0iNy-yPisM_4-8-rgb_front', '/content/drive/MyDrive/test_2D_keypoints/openpose_output/output/g0TkUiO7t4I_1-8-rgb_front', '/content/drive/MyDrive/test_2D_keypoints/openpose_output/output/g0TkUiO7t4I_13-8-rgb_front', '/content/drive/MyDrive/test_2D_keypoints/openpose_output/output/G1GUMky8kWc_7-2-rgb_front', '/content/drive/MyDrive/test_2D_keypoints/openpose_output/output/G1GUMky8kWc_4-2-rgb_front', '/content/drive/MyDrive/test_2D_keypoints/openpose_output/output/G1GUMky8kWc_5-2-rgb_front', '/content/drive/MyDrive/test_2D_keypoints/openpose_output/output/G1GUMky8kWc_6-2-rgb_front', '/content/drive/MyDrive/test_2D_keypoints/openpose_output/output/G05uFub3YFc_8-2-rgb_front', '/content/drive/MyDrive/test_2D_keypoints/openpose_output/output/g0iNy-yPisM_8-8-rgb_front', '/content/drive/MyDrive/test_2D_keypoints/openpose_output/output/g0TkUiO7t4I_11-8-rgb_front', '/content/drive/MyDrive/test_2D_keypoints/openpose_output/output/g0TkUiO7t4I_12-8-rgb_front', '/content/drive/MyDrive/test_2D_keypoints/openpose_output/output/g0iNy-yPisM_7-8-rgb_front', '/content/drive/MyDrive/test_2D_keypoints/openpose_output/output/G0MjvzT_UqM_0-2-rgb_front', '/content/drive/MyDrive/test_2D_keypoints/openpose_output/output/G1hb5HugzVk_0-8-rgb_front', '/content/drive/MyDrive/test_2D_keypoints/openpose_output/output/G05uFub3YFc_9-2-rgb_front', '/content/drive/MyDrive/test_2D_keypoints/openpose_output/output/G1GUMky8kWc_8-2-rgb_front', '/content/drive/MyDrive/test_2D_keypoints/openpose_output/output/G1GUMky8kWc_9-2-rgb_front', '/content/drive/MyDrive/test_2D_keypoints/openpose_output/output/g0iNy-yPisM_9-8-rgb_front', '/content/drive/MyDrive/test_2D_keypoints/openpose_output/output/g0TkUiO7t4I_2-8-rgb_front', '/content/drive/MyDrive/test_2D_keypoints/openpose_output/output/g05yGRoZE10_0-8-rgb_front', '/content/drive/MyDrive/test_2D_keypoints/openpose_output/output/G0MjvzT_UqM_10-2-rgb_front', '/content/drive/MyDrive/test_2D_keypoints/openpose_output/output/G0MjvzT_UqM_11-2-rgb_front', '/content/drive/MyDrive/test_2D_keypoints/openpose_output/output/G0MjvzT_UqM_12-2-rgb_front', '/content/drive/MyDrive/test_2D_keypoints/openpose_output/output/G0MjvzT_UqM_1-2-rgb_front', '/content/drive/MyDrive/test_2D_keypoints/openpose_output/output/g05yGRoZE10_1-8-rgb_front', '/content/drive/MyDrive/test_2D_keypoints/openpose_output/output/g0TkUiO7t4I_3-8-rgb_front', '/content/drive/MyDrive/test_2D_keypoints/openpose_output/output/G1hb5HugzVk_2-8-rgb_front', '/content/drive/MyDrive/test_2D_keypoints/openpose_output/output/G1hb5HugzVk_3-8-rgb_front', '/content/drive/MyDrive/test_2D_keypoints/openpose_output/output/g05yGRoZE10_2-8-rgb_front', '/content/drive/MyDrive/test_2D_keypoints/openpose_output/output/g05yGRoZE10_3-8-rgb_front', '/content/drive/MyDrive/test_2D_keypoints/openpose_output/output/g0TkUiO7t4I_4-8-rgb_front', '/content/drive/MyDrive/test_2D_keypoints/openpose_output/output/g0TkUiO7t4I_5-8-rgb_front', '/content/drive/MyDrive/test_2D_keypoints/openpose_output/output/G0MjvzT_UqM_13-2-rgb_front', '/content/drive/MyDrive/test_2D_keypoints/openpose_output/output/G0MjvzT_UqM_14-2-rgb_front', '/content/drive/MyDrive/test_2D_keypoints/openpose_output/output/g05yGRoZE10_4-8-rgb_front', '/content/drive/MyDrive/test_2D_keypoints/openpose_output/output/G1hb5HugzVk_4-8-rgb_front', '/content/drive/MyDrive/test_2D_keypoints/openpose_output/output/g0TkUiO7t4I_7-8-rgb_front', '/content/drive/MyDrive/test_2D_keypoints/openpose_output/output/G0MjvzT_UqM_15-2-rgb_front', '/content/drive/MyDrive/test_2D_keypoints/openpose_output/output/g0TkUiO7t4I_6-8-rgb_front', '/content/drive/MyDrive/test_2D_keypoints/openpose_output/output/g0TkUiO7t4I_9-8-rgb_front', '/content/drive/MyDrive/test_2D_keypoints/openpose_output/output/g1HvmBOR7Y4_0-3-rgb_front', '/content/drive/MyDrive/test_2D_keypoints/openpose_output/output/G1hb5HugzVk_6-8-rgb_front', '/content/drive/MyDrive/test_2D_keypoints/openpose_output/output/g0TkUiO7t4I_8-8-rgb_front', '/content/drive/MyDrive/test_2D_keypoints/openpose_output/output/G0MjvzT_UqM_17-2-rgb_front', '/content/drive/MyDrive/test_2D_keypoints/openpose_output/output/G1hb5HugzVk_5-8-rgb_front', '/content/drive/MyDrive/test_2D_keypoints/openpose_output/output/G0MjvzT_UqM_16-2-rgb_front', '/content/drive/MyDrive/test_2D_keypoints/openpose_output/output/g05yGRoZE10_5-8-rgb_front', '/content/drive/MyDrive/test_2D_keypoints/openpose_output/output/g05yGRoZE10_6-8-rgb_front', '/content/drive/MyDrive/test_2D_keypoints/openpose_output/output/G0MjvzT_UqM_18-2-rgb_front', '/content/drive/MyDrive/test_2D_keypoints/openpose_output/output/G0MjvzT_UqM_19-2-rgb_front', '/content/drive/MyDrive/test_2D_keypoints/openpose_output/output/G1hb5HugzVk_7-8-rgb_front', '/content/drive/MyDrive/test_2D_keypoints/openpose_output/output/g05yGRoZE10_9-8-rgb_front', '/content/drive/MyDrive/test_2D_keypoints/openpose_output/output/G0MjvzT_UqM_2-2-rgb_front', '/content/drive/MyDrive/test_2D_keypoints/openpose_output/output/g05yGRoZE10_8-8-rgb_front', '/content/drive/MyDrive/test_2D_keypoints/openpose_output/output/g0uGWjwdOIw_2-8-rgb_front', '/content/drive/MyDrive/test_2D_keypoints/openpose_output/output/g05yGRoZE10_7-8-rgb_front', '/content/drive/MyDrive/test_2D_keypoints/openpose_output/output/g1HvmBOR7Y4_1-3-rgb_front', '/content/drive/MyDrive/test_2D_keypoints/openpose_output/output/G0MjvzT_UqM_21-2-rgb_front', '/content/drive/MyDrive/test_2D_keypoints/openpose_output/output/g0uGWjwdOIw_1-8-rgb_front', '/content/drive/MyDrive/test_2D_keypoints/openpose_output/output/G0MjvzT_UqM_20-2-rgb_front', '/content/drive/MyDrive/test_2D_keypoints/openpose_output/output/G0MjvzT_UqM_22-2-rgb_front', '/content/drive/MyDrive/test_2D_keypoints/openpose_output/output/g0UUmEkoT1w_0-10-rgb_front', '/content/drive/MyDrive/test_2D_keypoints/openpose_output/output/G06Irzcwxiw_0-1-rgb_front', '/content/drive/MyDrive/test_2D_keypoints/openpose_output/output/g0UUmEkoT1w_0-8-rgb_front', '/content/drive/MyDrive/test_2D_keypoints/openpose_output/output/g1HvmBOR7Y4_10-3-rgb_front', '/content/drive/MyDrive/test_2D_keypoints/openpose_output/output/G0MjvzT_UqM_23-2-rgb_front', '/content/drive/MyDrive/test_2D_keypoints/openpose_output/output/G06Irzcwxiw_1-1-rgb_front', '/content/drive/MyDrive/test_2D_keypoints/openpose_output/output/g0UUmEkoT1w_1-10-rgb_front', '/content/drive/MyDrive/test_2D_keypoints/openpose_output/output/G0MjvzT_UqM_4-2-rgb_front', '/content/drive/MyDrive/test_2D_keypoints/openpose_output/output/G06Irzcwxiw_10-1-rgb_front', '/content/drive/MyDrive/test_2D_keypoints/openpose_output/output/g0UUmEkoT1w_2-10-rgb_front', '/content/drive/MyDrive/test_2D_keypoints/openpose_output/output/g0UUmEkoT1w_1-8-rgb_front', '/content/drive/MyDrive/test_2D_keypoints/openpose_output/output/G0MjvzT_UqM_3-2-rgb_front', '/content/drive/MyDrive/test_2D_keypoints/openpose_output/output/g0UUmEkoT1w_3-10-rgb_front', '/content/drive/MyDrive/test_2D_keypoints/openpose_output/output/g0UUmEkoT1w_2-8-rgb_front', '/content/drive/MyDrive/test_2D_keypoints/openpose_output/output/g0UUmEkoT1w_3-8-rgb_front', '/content/drive/MyDrive/test_2D_keypoints/openpose_output/output/g0UUmEkoT1w_4-8-rgb_front', '/content/drive/MyDrive/test_2D_keypoints/openpose_output/output/G06Irzcwxiw_11-1-rgb_front', '/content/drive/MyDrive/test_2D_keypoints/openpose_output/output/G0MjvzT_UqM_5-2-rgb_front', '/content/drive/MyDrive/test_2D_keypoints/openpose_output/output/g0UUmEkoT1w_4-10-rgb_front', '/content/drive/MyDrive/test_2D_keypoints/openpose_output/output/G0MjvzT_UqM_7-2-rgb_front', '/content/drive/MyDrive/test_2D_keypoints/openpose_output/output/G06Irzcwxiw_13-1-rgb_front', '/content/drive/MyDrive/test_2D_keypoints/openpose_output/output/g0UUmEkoT1w_6-10-rgb_front', '/content/drive/MyDrive/test_2D_keypoints/openpose_output/output/g0UUmEkoT1w_5-10-rgb_front', '/content/drive/MyDrive/test_2D_keypoints/openpose_output/output/g0UUmEkoT1w_5-8-rgb_front', '/content/drive/MyDrive/test_2D_keypoints/openpose_output/output/G0MjvzT_UqM_6-2-rgb_front', '/content/drive/MyDrive/test_2D_keypoints/openpose_output/output/G06Irzcwxiw_12-1-rgb_front', '/content/drive/MyDrive/test_2D_keypoints/openpose_output/output/g0UUmEkoT1w_7-10-rgb_front', '/content/drive/MyDrive/test_2D_keypoints/openpose_output/output/G06Irzcwxiw_14-1-rgb_front', '/content/drive/MyDrive/test_2D_keypoints/openpose_output/output/g0UUmEkoT1w_6-8-rgb_front', '/content/drive/MyDrive/test_2D_keypoints/openpose_output/output/G0MjvzT_UqM_9-2-rgb_front', '/content/drive/MyDrive/test_2D_keypoints/openpose_output/output/G0MjvzT_UqM_8-2-rgb_front', '/content/drive/MyDrive/test_2D_keypoints/openpose_output/output/g0UUmEkoT1w_8-10-rgb_front', '/content/drive/MyDrive/test_2D_keypoints/openpose_output/output/g0UUmEkoT1w_8-8-rgb_front', '/content/drive/MyDrive/test_2D_keypoints/openpose_output/output/G0peUY2cfeE_1-2-rgb_front', '/content/drive/MyDrive/test_2D_keypoints/openpose_output/output/G06Irzcwxiw_15-1-rgb_front', '/content/drive/MyDrive/test_2D_keypoints/openpose_output/output/G06Irzcwxiw_16-1-rgb_front', '/content/drive/MyDrive/test_2D_keypoints/openpose_output/output/g0UUmEkoT1w_7-8-rgb_front', '/content/drive/MyDrive/test_2D_keypoints/openpose_output/output/G0peUY2cfeE_0-2-rgb_front', '/content/drive/MyDrive/test_2D_keypoints/openpose_output/output/G0peUY2cfeE_2-2-rgb_front', '/content/drive/MyDrive/test_2D_keypoints/openpose_output/output/G06Irzcwxiw_17-1-rgb_front', '/content/drive/MyDrive/test_2D_keypoints/openpose_output/output/G06Irzcwxiw_18-1-rgb_front', '/content/drive/MyDrive/test_2D_keypoints/openpose_output/output/G06Irzcwxiw_19-1-rgb_front', '/content/drive/MyDrive/test_2D_keypoints/openpose_output/output/G06Irzcwxiw_21-1-rgb_front', '/content/drive/MyDrive/test_2D_keypoints/openpose_output/output/G0peUY2cfeE_3-2-rgb_front', '/content/drive/MyDrive/test_2D_keypoints/openpose_output/output/G06Irzcwxiw_20-1-rgb_front', '/content/drive/MyDrive/test_2D_keypoints/openpose_output/output/G06Irzcwxiw_2-1-rgb_front', '/content/drive/MyDrive/test_2D_keypoints/openpose_output/output/g0UUmEkoT1w_9-10-rgb_front', '/content/drive/MyDrive/test_2D_keypoints/openpose_output/output/G0peUY2cfeE_4-2-rgb_front', '/content/drive/MyDrive/test_2D_keypoints/openpose_output/output/g0UUmEkoT1w_9-8-rgb_front', '/content/drive/MyDrive/test_2D_keypoints/openpose_output/output/G06Irzcwxiw_22-1-rgb_front', '/content/drive/MyDrive/test_2D_keypoints/openpose_output/output/g0yUlOaqL6k_1-3-rgb_front', '/content/drive/MyDrive/test_2D_keypoints/openpose_output/output/G06Irzcwxiw_23-1-rgb_front', '/content/drive/MyDrive/test_2D_keypoints/openpose_output/output/g0yUlOaqL6k_10-3-rgb_front', '/content/drive/MyDrive/test_2D_keypoints/openpose_output/output/G06Irzcwxiw_24-1-rgb_front', '/content/drive/MyDrive/test_2D_keypoints/openpose_output/output/G06Irzcwxiw_25-1-rgb_front', '/content/drive/MyDrive/test_2D_keypoints/openpose_output/output/G0peUY2cfeE_5-2-rgb_front', '/content/drive/MyDrive/test_2D_keypoints/openpose_output/output/g0yUlOaqL6k_13-3-rgb_front', '/content/drive/MyDrive/test_2D_keypoints/openpose_output/output/g0yUlOaqL6k_11-3-rgb_front', '/content/drive/MyDrive/test_2D_keypoints/openpose_output/output/G0PNAsonBGk_1-2-rgb_front', '/content/drive/MyDrive/test_2D_keypoints/openpose_output/output/g0yUlOaqL6k_12-3-rgb_front', '/content/drive/MyDrive/test_2D_keypoints/openpose_output/output/G06Irzcwxiw_26-1-rgb_front', '/content/drive/MyDrive/test_2D_keypoints/openpose_output/output/G0PNAsonBGk_0-2-rgb_front', '/content/drive/MyDrive/test_2D_keypoints/openpose_output/output/G06Irzcwxiw_4-1-rgb_front', '/content/drive/MyDrive/test_2D_keypoints/openpose_output/output/G0PNAsonBGk_11-2-rgb_front', '/content/drive/MyDrive/test_2D_keypoints/openpose_output/output/g0yUlOaqL6k_14-3-rgb_front', '/content/drive/MyDrive/test_2D_keypoints/openpose_output/output/G06Irzcwxiw_3-1-rgb_front', '/content/drive/MyDrive/test_2D_keypoints/openpose_output/output/G0PNAsonBGk_10-2-rgb_front', '/content/drive/MyDrive/test_2D_keypoints/openpose_output/output/G0PNAsonBGk_13-2-rgb_front', '/content/drive/MyDrive/test_2D_keypoints/openpose_output/output/g0yUlOaqL6k_15-3-rgb_front', '/content/drive/MyDrive/test_2D_keypoints/openpose_output/output/g0yUlOaqL6k_16-3-rgb_front', '/content/drive/MyDrive/test_2D_keypoints/openpose_output/output/G0PNAsonBGk_12-2-rgb_front', '/content/drive/MyDrive/test_2D_keypoints/openpose_output/output/G0PNAsonBGk_14-2-rgb_front', '/content/drive/MyDrive/test_2D_keypoints/openpose_output/output/G06Irzcwxiw_6-1-rgb_front', '/content/drive/MyDrive/test_2D_keypoints/openpose_output/output/G0PNAsonBGk_15-2-rgb_front', '/content/drive/MyDrive/test_2D_keypoints/openpose_output/output/g0yUlOaqL6k_2-3-rgb_front', '/content/drive/MyDrive/test_2D_keypoints/openpose_output/output/G06Irzcwxiw_5-1-rgb_front', '/content/drive/MyDrive/test_2D_keypoints/openpose_output/output/G0PNAsonBGk_16-2-rgb_front', '/content/drive/MyDrive/test_2D_keypoints/openpose_output/output/G0PNAsonBGk_17-2-rgb_front', '/content/drive/MyDrive/test_2D_keypoints/openpose_output/output/g0yUlOaqL6k_4-3-rgb_front', '/content/drive/MyDrive/test_2D_keypoints/openpose_output/output/G06Irzcwxiw_7-1-rgb_front', '/content/drive/MyDrive/test_2D_keypoints/openpose_output/output/g0yUlOaqL6k_3-3-rgb_front', '/content/drive/MyDrive/test_2D_keypoints/openpose_output/output/G0PNAsonBGk_18-2-rgb_front', '/content/drive/MyDrive/test_2D_keypoints/openpose_output/output/g0yUlOaqL6k_5-3-rgb_front', '/content/drive/MyDrive/test_2D_keypoints/openpose_output/output/G0PNAsonBGk_2-2-rgb_front', '/content/drive/MyDrive/test_2D_keypoints/openpose_output/output/G0PNAsonBGk_19-2-rgb_front', '/content/drive/MyDrive/test_2D_keypoints/openpose_output/output/G06Irzcwxiw_8-1-rgb_front', '/content/drive/MyDrive/test_2D_keypoints/openpose_output/output/G0PNAsonBGk_20-2-rgb_front', '/content/drive/MyDrive/test_2D_keypoints/openpose_output/output/g0yUlOaqL6k_6-3-rgb_front', '/content/drive/MyDrive/test_2D_keypoints/openpose_output/output/G0PNAsonBGk_21-2-rgb_front', '/content/drive/MyDrive/test_2D_keypoints/openpose_output/output/G0PNAsonBGk_3-2-rgb_front', '/content/drive/MyDrive/test_2D_keypoints/openpose_output/output/G06Irzcwxiw_9-1-rgb_front', '/content/drive/MyDrive/test_2D_keypoints/openpose_output/output/g0yUlOaqL6k_7-3-rgb_front', '/content/drive/MyDrive/test_2D_keypoints/openpose_output/output/G0PNAsonBGk_7-2-rgb_front', '/content/drive/MyDrive/test_2D_keypoints/openpose_output/output/G0PNAsonBGk_5-2-rgb_front', '/content/drive/MyDrive/test_2D_keypoints/openpose_output/output/G095RWKQ39g_0-1-rgb_front', '/content/drive/MyDrive/test_2D_keypoints/openpose_output/output/g0yUlOaqL6k_9-3-rgb_front', '/content/drive/MyDrive/test_2D_keypoints/openpose_output/output/G095RWKQ39g_1-1-rgb_front', '/content/drive/MyDrive/test_2D_keypoints/openpose_output/output/g0yUlOaqL6k_8-3-rgb_front', '/content/drive/MyDrive/test_2D_keypoints/openpose_output/output/G0PNAsonBGk_6-2-rgb_front', '/content/drive/MyDrive/test_2D_keypoints/openpose_output/output/G0PNAsonBGk_4-2-rgb_front', '/content/drive/MyDrive/test_2D_keypoints/openpose_output/output/g0pRnlPR-K0_0-8-rgb_front', '/content/drive/MyDrive/test_2D_keypoints/openpose_output/output/G0PNAsonBGk_9-2-rgb_front', '/content/drive/MyDrive/test_2D_keypoints/openpose_output/output/G0PNAsonBGk_8-2-rgb_front', '/content/drive/MyDrive/test_2D_keypoints/openpose_output/output/g0pRnlPR-K0_2-8-rgb_front', '/content/drive/MyDrive/test_2D_keypoints/openpose_output/output/G0zQm6X8uiQ_0-8-rgb_front', '/content/drive/MyDrive/test_2D_keypoints/openpose_output/output/g0pRnlPR-K0_5-8-rgb_front', '/content/drive/MyDrive/test_2D_keypoints/openpose_output/output/G095RWKQ39g_10-1-rgb_front', '/content/drive/MyDrive/test_2D_keypoints/openpose_output/output/G095RWKQ39g_11-1-rgb_front', '/content/drive/MyDrive/test_2D_keypoints/openpose_output/output/g0pRnlPR-K0_4-8-rgb_front', '/content/drive/MyDrive/test_2D_keypoints/openpose_output/output/g0pRnlPR-K0_3-8-rgb_front', '/content/drive/MyDrive/test_2D_keypoints/openpose_output/output/g0pRnlPR-K0_7-8-rgb_front', '/content/drive/MyDrive/test_2D_keypoints/openpose_output/output/g0pRnlPR-K0_8-8-rgb_front', '/content/drive/MyDrive/test_2D_keypoints/openpose_output/output/G0zQm6X8uiQ_1-8-rgb_front', '/content/drive/MyDrive/test_2D_keypoints/openpose_output/output/G095RWKQ39g_12-1-rgb_front', '/content/drive/MyDrive/test_2D_keypoints/openpose_output/output/g0pRnlPR-K0_6-8-rgb_front', '/content/drive/MyDrive/test_2D_keypoints/openpose_output/output/G095RWKQ39g_13-1-rgb_front', '/content/drive/MyDrive/test_2D_keypoints/openpose_output/output/G0zQm6X8uiQ_2-8-rgb_front', '/content/drive/MyDrive/test_2D_keypoints/openpose_output/output/G095RWKQ39g_14-1-rgb_front', '/content/drive/MyDrive/test_2D_keypoints/openpose_output/output/G0Q6AlvH96I_0-2-rgb_front', '/content/drive/MyDrive/test_2D_keypoints/openpose_output/output/g0pRnlPR-K0_9-8-rgb_front', '/content/drive/MyDrive/test_2D_keypoints/openpose_output/output/G095RWKQ39g_15-1-rgb_front', '/content/drive/MyDrive/test_2D_keypoints/openpose_output/output/G0Q6AlvH96I_1-2-rgb_front', '/content/drive/MyDrive/test_2D_keypoints/openpose_output/output/G0Q6AlvH96I_10-2-rgb_front', '/content/drive/MyDrive/test_2D_keypoints/openpose_output/output/G0zQm6X8uiQ_3-8-rgb_front', '/content/drive/MyDrive/test_2D_keypoints/openpose_output/output/G0Q6AlvH96I_12-2-rgb_front', '/content/drive/MyDrive/test_2D_keypoints/openpose_output/output/G095RWKQ39g_17-1-rgb_front', '/content/drive/MyDrive/test_2D_keypoints/openpose_output/output/G095RWKQ39g_16-1-rgb_front', '/content/drive/MyDrive/test_2D_keypoints/openpose_output/output/G0Q6AlvH96I_13-2-rgb_front', '/content/drive/MyDrive/test_2D_keypoints/openpose_output/output/G0Q6AlvH96I_11-2-rgb_front', '/content/drive/MyDrive/test_2D_keypoints/openpose_output/output/G0zQm6X8uiQ_4-8-rgb_front', '/content/drive/MyDrive/test_2D_keypoints/openpose_output/output/G095RWKQ39g_19-1-rgb_front', '/content/drive/MyDrive/test_2D_keypoints/openpose_output/output/G0Q6AlvH96I_14-2-rgb_front', '/content/drive/MyDrive/test_2D_keypoints/openpose_output/output/G0Q6AlvH96I_15-2-rgb_front', '/content/drive/MyDrive/test_2D_keypoints/openpose_output/output/G095RWKQ39g_18-1-rgb_front', '/content/drive/MyDrive/test_2D_keypoints/openpose_output/output/G0Q6AlvH96I_16-2-rgb_front', '/content/drive/MyDrive/test_2D_keypoints/openpose_output/output/G095RWKQ39g_2-1-rgb_front', '/content/drive/MyDrive/test_2D_keypoints/openpose_output/output/G0zQm6X8uiQ_6-8-rgb_front', '/content/drive/MyDrive/test_2D_keypoints/openpose_output/output/G0zQm6X8uiQ_5-8-rgb_front', '/content/drive/MyDrive/test_2D_keypoints/openpose_output/output/G0Q6AlvH96I_17-2-rgb_front', '/content/drive/MyDrive/test_2D_keypoints/openpose_output/output/G0Q6AlvH96I_18-2-rgb_front', '/content/drive/MyDrive/test_2D_keypoints/openpose_output/output/G0Q6AlvH96I_19-2-rgb_front', '/content/drive/MyDrive/test_2D_keypoints/openpose_output/output/g13Jo_kFliM_0-10-rgb_front', '/content/drive/MyDrive/test_2D_keypoints/openpose_output/output/g13Jo_kFliM_0-3-rgb_front', '/content/drive/MyDrive/test_2D_keypoints/openpose_output/output/g13Jo_kFliM_1-10-rgb_front', '/content/drive/MyDrive/test_2D_keypoints/openpose_output/output/g13Jo_kFliM_2-3-rgb_front', '/content/drive/MyDrive/test_2D_keypoints/openpose_output/output/G095RWKQ39g_20-1-rgb_front', '/content/drive/MyDrive/test_2D_keypoints/openpose_output/output/G0Q6AlvH96I_2-2-rgb_front', '/content/drive/MyDrive/test_2D_keypoints/openpose_output/output/g13Jo_kFliM_1-3-rgb_front', '/content/drive/MyDrive/test_2D_keypoints/openpose_output/output/G0Q6AlvH96I_20-2-rgb_front', '/content/drive/MyDrive/test_2D_keypoints/openpose_output/output/g13Jo_kFliM_2-10-rgb_front', '/content/drive/MyDrive/test_2D_keypoints/openpose_output/output/G19uBylwQww_11-2-rgb_front', '/content/drive/MyDrive/test_2D_keypoints/openpose_output/output/G0Q6AlvH96I_21-2-rgb_front', '/content/drive/MyDrive/test_2D_keypoints/openpose_output/output/G1lNlhjWC1I_16_17-8-rgb_front', '/content/drive/MyDrive/test_2D_keypoints/openpose_output/output/G095RWKQ39g_3-1-rgb_front', '/content/drive/MyDrive/test_2D_keypoints/openpose_output/output/G19uBylwQww_1-2-rgb_front', '/content/drive/MyDrive/test_2D_keypoints/openpose_output/output/G19uBylwQww_0-2-rgb_front', '/content/drive/MyDrive/test_2D_keypoints/openpose_output/output/G0Q6AlvH96I_24-2-rgb_front', '/content/drive/MyDrive/test_2D_keypoints/openpose_output/output/G19uBylwQww_10-2-rgb_front', '/content/drive/MyDrive/test_2D_keypoints/openpose_output/output/G0Q6AlvH96I_23-2-rgb_front', '/content/drive/MyDrive/test_2D_keypoints/openpose_output/output/G0Q6AlvH96I_22-2-rgb_front', '/content/drive/MyDrive/test_2D_keypoints/openpose_output/output/G19uBylwQww_12-2-rgb_front', '/content/drive/MyDrive/test_2D_keypoints/openpose_output/output/G095RWKQ39g_5-1-rgb_front', '/content/drive/MyDrive/test_2D_keypoints/openpose_output/output/G0Q6AlvH96I_25-2-rgb_front', '/content/drive/MyDrive/test_2D_keypoints/openpose_output/output/G095RWKQ39g_4-1-rgb_front', '/content/drive/MyDrive/test_2D_keypoints/openpose_output/output/G19uBylwQww_13-2-rgb_front', '/content/drive/MyDrive/test_2D_keypoints/openpose_output/output/G0Q6AlvH96I_27-2-rgb_front', '/content/drive/MyDrive/test_2D_keypoints/openpose_output/output/G0Q6AlvH96I_26-2-rgb_front', '/content/drive/MyDrive/test_2D_keypoints/openpose_output/output/G0Q6AlvH96I_29-2-rgb_front', '/content/drive/MyDrive/test_2D_keypoints/openpose_output/output/G0Q6AlvH96I_28-2-rgb_front', '/content/drive/MyDrive/test_2D_keypoints/openpose_output/output/G095RWKQ39g_6-1-rgb_front', '/content/drive/MyDrive/test_2D_keypoints/openpose_output/output/G0Q6AlvH96I_3-2-rgb_front', '/content/drive/MyDrive/test_2D_keypoints/openpose_output/output/G19uBylwQww_14-2-rgb_front', '/content/drive/MyDrive/test_2D_keypoints/openpose_output/output/G095RWKQ39g_7-1-rgb_front', '/content/drive/MyDrive/test_2D_keypoints/openpose_output/output/G19uBylwQww_15-2-rgb_front', '/content/drive/MyDrive/test_2D_keypoints/openpose_output/output/G095RWKQ39g_8-1-rgb_front', '/content/drive/MyDrive/test_2D_keypoints/openpose_output/output/G0Q6AlvH96I_30-2-rgb_front', '/content/drive/MyDrive/test_2D_keypoints/openpose_output/output/G0Q6AlvH96I_4-2-rgb_front', '/content/drive/MyDrive/test_2D_keypoints/openpose_output/output/g0Abwige7MQ_1-8-rgb_front', '/content/drive/MyDrive/test_2D_keypoints/openpose_output/output/g0Abwige7MQ_0-8-rgb_front', '/content/drive/MyDrive/test_2D_keypoints/openpose_output/output/G095RWKQ39g_9-1-rgb_front', '/content/drive/MyDrive/test_2D_keypoints/openpose_output/output/G0Q6AlvH96I_5-2-rgb_front', '/content/drive/MyDrive/test_2D_keypoints/openpose_output/output/G19uBylwQww_17-2-rgb_front', '/content/drive/MyDrive/test_2D_keypoints/openpose_output/output/G19uBylwQww_16-2-rgb_front', '/content/drive/MyDrive/test_2D_keypoints/openpose_output/output/G0Q6AlvH96I_7-2-rgb_front', '/content/drive/MyDrive/test_2D_keypoints/openpose_output/output/g0Abwige7MQ_10-8-rgb_front', '/content/drive/MyDrive/test_2D_keypoints/openpose_output/output/G19uBylwQww_2-2-rgb_front', '/content/drive/MyDrive/test_2D_keypoints/openpose_output/output/g0Abwige7MQ_11-8-rgb_front', '/content/drive/MyDrive/test_2D_keypoints/openpose_output/output/G19uBylwQww_19-2-rgb_front', '/content/drive/MyDrive/test_2D_keypoints/openpose_output/output/G19uBylwQww_18-2-rgb_front', '/content/drive/MyDrive/test_2D_keypoints/openpose_output/output/G0Q6AlvH96I_6-2-rgb_front', '/content/drive/MyDrive/test_2D_keypoints/openpose_output/output/G0Q6AlvH96I_8-2-rgb_front', '/content/drive/MyDrive/test_2D_keypoints/openpose_output/output/g0Abwige7MQ_2-8-rgb_front', '/content/drive/MyDrive/test_2D_keypoints/openpose_output/output/g0Abwige7MQ_13-8-rgb_front', '/content/drive/MyDrive/test_2D_keypoints/openpose_output/output/G0Q6AlvH96I_9-2-rgb_front', '/content/drive/MyDrive/test_2D_keypoints/openpose_output/output/g0Abwige7MQ_3-8-rgb_front', '/content/drive/MyDrive/test_2D_keypoints/openpose_output/output/g0Abwige7MQ_12-8-rgb_front', '/content/drive/MyDrive/test_2D_keypoints/openpose_output/output/G19uBylwQww_4-2-rgb_front', '/content/drive/MyDrive/test_2D_keypoints/openpose_output/output/g0QHEtNjZhI_20-10-rgb_front', '/content/drive/MyDrive/test_2D_keypoints/openpose_output/output/G19uBylwQww_5-2-rgb_front', '/content/drive/MyDrive/test_2D_keypoints/openpose_output/output/G19uBylwQww_3-2-rgb_front', '/content/drive/MyDrive/test_2D_keypoints/openpose_output/output/g0Abwige7MQ_5-8-rgb_front', '/content/drive/MyDrive/test_2D_keypoints/openpose_output/output/G19uBylwQww_6-2-rgb_front', '/content/drive/MyDrive/test_2D_keypoints/openpose_output/output/g0QHEtNjZhI_20-8-rgb_front', '/content/drive/MyDrive/test_2D_keypoints/openpose_output/output/g0Abwige7MQ_4-8-rgb_front', '/content/drive/MyDrive/test_2D_keypoints/openpose_output/output/G19uBylwQww_7-2-rgb_front', '/content/drive/MyDrive/test_2D_keypoints/openpose_output/output/g1ccEYTMGGY_10-10-rgb_front', '/content/drive/MyDrive/test_2D_keypoints/openpose_output/output/G19uBylwQww_9-2-rgb_front', '/content/drive/MyDrive/test_2D_keypoints/openpose_output/output/G19uBylwQww_8-2-rgb_front', '/content/drive/MyDrive/test_2D_keypoints/openpose_output/output/g1ccEYTMGGY_11-10-rgb_front', '/content/drive/MyDrive/test_2D_keypoints/openpose_output/output/g1ccEYTMGGY_10-3-rgb_front', '/content/drive/MyDrive/test_2D_keypoints/openpose_output/output/g1ccEYTMGGY_11-3-rgb_front', '/content/drive/MyDrive/test_2D_keypoints/openpose_output/output/g1ccEYTMGGY_12-10-rgb_front', '/content/drive/MyDrive/test_2D_keypoints/openpose_output/output/g1ccEYTMGGY_12-3-rgb_front', '/content/drive/MyDrive/test_2D_keypoints/openpose_output/output/g1ccEYTMGGY_13-10-rgb_front', '/content/drive/MyDrive/test_2D_keypoints/openpose_output/output/g1ccEYTMGGY_13-3-rgb_front', '/content/drive/MyDrive/test_2D_keypoints/openpose_output/output/g1ccEYTMGGY_14-10-rgb_front', '/content/drive/MyDrive/test_2D_keypoints/openpose_output/output/g1ccEYTMGGY_14-3-rgb_front', '/content/drive/MyDrive/test_2D_keypoints/openpose_output/output/g1ccEYTMGGY_16-10-rgb_front', '/content/drive/MyDrive/test_2D_keypoints/openpose_output/output/g1ccEYTMGGY_15-10-rgb_front', '/content/drive/MyDrive/test_2D_keypoints/openpose_output/output/g1ccEYTMGGY_15-3-rgb_front', '/content/drive/MyDrive/test_2D_keypoints/openpose_output/output/g1ccEYTMGGY_17-10-rgb_front', '/content/drive/MyDrive/test_2D_keypoints/openpose_output/output/g1ccEYTMGGY_17-3-rgb_front', '/content/drive/MyDrive/test_2D_keypoints/openpose_output/output/g1ccEYTMGGY_16-3-rgb_front', '/content/drive/MyDrive/test_2D_keypoints/openpose_output/output/g1ccEYTMGGY_18-3-rgb_front', '/content/drive/MyDrive/test_2D_keypoints/openpose_output/output/g1ccEYTMGGY_18-10-rgb_front', '/content/drive/MyDrive/test_2D_keypoints/openpose_output/output/g1ccEYTMGGY_4-10-rgb_front', '/content/drive/MyDrive/test_2D_keypoints/openpose_output/output/g1ccEYTMGGY_19-10-rgb_front', '/content/drive/MyDrive/test_2D_keypoints/openpose_output/output/g1ccEYTMGGY_19-3-rgb_front', '/content/drive/MyDrive/test_2D_keypoints/openpose_output/output/g1ccEYTMGGY_5-3-rgb_front', '/content/drive/MyDrive/test_2D_keypoints/openpose_output/output/g1ccEYTMGGY_4-3-rgb_front', '/content/drive/MyDrive/test_2D_keypoints/openpose_output/output/g1ccEYTMGGY_5-10-rgb_front', '/content/drive/MyDrive/test_2D_keypoints/openpose_output/output/g1ccEYTMGGY_7-10-rgb_front', '/content/drive/MyDrive/test_2D_keypoints/openpose_output/output/g1ccEYTMGGY_6-3-rgb_front', '/content/drive/MyDrive/test_2D_keypoints/openpose_output/output/g1ccEYTMGGY_6-10-rgb_front', '/content/drive/MyDrive/test_2D_keypoints/openpose_output/output/g1ccEYTMGGY_8-3-rgb_front', '/content/drive/MyDrive/test_2D_keypoints/openpose_output/output/G21Gx_C18IA_2_3-2-rgb_front', '/content/drive/MyDrive/test_2D_keypoints/openpose_output/output/g1ccEYTMGGY_8-10-rgb_front', '/content/drive/MyDrive/test_2D_keypoints/openpose_output/output/g1ccEYTMGGY_7-3-rgb_front', '/content/drive/MyDrive/test_2D_keypoints/openpose_output/output/g1ccEYTMGGY_9-10-rgb_front', '/content/drive/MyDrive/test_2D_keypoints/openpose_output/output/g1e-zO8mZ4c_0-3-rgb_front', '/content/drive/MyDrive/test_2D_keypoints/openpose_output/output/g1ccEYTMGGY_9-3-rgb_front', '/content/drive/MyDrive/test_2D_keypoints/openpose_output/output/G1GUMky8kWc_0-2-rgb_front', '/content/drive/MyDrive/test_2D_keypoints/openpose_output/output/g1e-zO8mZ4c_1-3-rgb_front', '/content/drive/MyDrive/test_2D_keypoints/openpose_output/output/G1GUMky8kWc_11-2-rgb_front', '/content/drive/MyDrive/test_2D_keypoints/openpose_output/output/G1GUMky8kWc_10-2-rgb_front', '/content/drive/MyDrive/test_2D_keypoints/openpose_output/output/G1GUMky8kWc_1-2-rgb_front', '/content/drive/MyDrive/test_2D_keypoints/openpose_output/output/G1GUMky8kWc_12-2-rgb_front', '/content/drive/MyDrive/test_2D_keypoints/openpose_output/output/G1GUMky8kWc_13-2-rgb_front', '/content/drive/MyDrive/test_2D_keypoints/openpose_output/output/G23JltC2N8g_0-5-rgb_front', '/content/drive/MyDrive/test_2D_keypoints/openpose_output/output/G23JltC2N8g_4-5-rgb_front', '/content/drive/MyDrive/test_2D_keypoints/openpose_output/output/g2iFC1st7zQ_2-3-rgb_front', '/content/drive/MyDrive/test_2D_keypoints/openpose_output/output/G2JE_BEFVmE_1-5-rgb_front', '/content/drive/MyDrive/test_2D_keypoints/openpose_output/output/G2JE_BEFVmE_3-5-rgb_front', '/content/drive/MyDrive/test_2D_keypoints/openpose_output/output/G2JE_BEFVmE_4-10-rgb_front', '/content/drive/MyDrive/test_2D_keypoints/openpose_output/output/G2JE_BEFVmE_4-5-rgb_front', '/content/drive/MyDrive/test_2D_keypoints/openpose_output/output/G33aqW3DLpc_0-5-rgb_front', '/content/drive/MyDrive/test_2D_keypoints/openpose_output/output/G33aqW3DLpc_1-10-rgb_front', '/content/drive/MyDrive/test_2D_keypoints/openpose_output/output/G33aqW3DLpc_1-5-rgb_front', '/content/drive/MyDrive/test_2D_keypoints/openpose_output/output/G2T2WCuU39Y_1-5-rgb_front', '/content/drive/MyDrive/test_2D_keypoints/openpose_output/output/G2lEchCCRAo_0-5-rgb_front', '/content/drive/MyDrive/test_2D_keypoints/openpose_output/output/G2T2WCuU39Y_3-5-rgb_front', '/content/drive/MyDrive/test_2D_keypoints/openpose_output/output/G2T2WCuU39Y_4-5-rgb_front', '/content/drive/MyDrive/test_2D_keypoints/openpose_output/output/G2lEchCCRAo_7-5-rgb_front', '/content/drive/MyDrive/test_2D_keypoints/openpose_output/output/G2T2WCuU39Y_5-10-rgb_front', '/content/drive/MyDrive/test_2D_keypoints/openpose_output/output/G2T2WCuU39Y_5-5-rgb_front', '/content/drive/MyDrive/test_2D_keypoints/openpose_output/output/G38DbiHHTW0_3-5-rgb_front', '/content/drive/MyDrive/test_2D_keypoints/openpose_output/output/G3HKHxevpFI_5-5-rgb_front', '/content/drive/MyDrive/test_2D_keypoints/openpose_output/output/G3HKHxevpFI_6-5-rgb_front', '/content/drive/MyDrive/test_2D_keypoints/openpose_output/output/G3IJAoK0uSE_0-5-rgb_front', '/content/drive/MyDrive/test_2D_keypoints/openpose_output/output/g3ZluRtRXVc_5-3-rgb_front', '/content/drive/MyDrive/test_2D_keypoints/openpose_output/output/G3IJAoK0uSE_10-5-rgb_front', '/content/drive/MyDrive/test_2D_keypoints/openpose_output/output/G3IJAoK0uSE_2-5-rgb_front', '/content/drive/MyDrive/test_2D_keypoints/openpose_output/output/g3UE1iPiyuE_3-3-rgb_front', '/content/drive/MyDrive/test_2D_keypoints/openpose_output/output/G3IJAoK0uSE_9-5-rgb_front', '/content/drive/MyDrive/test_2D_keypoints/openpose_output/output/_fZbAxSSbX4_16-5-rgb_front', '/content/drive/MyDrive/test_2D_keypoints/openpose_output/output/G3k86AVFwVs_14-5-rgb_front', '/content/drive/MyDrive/test_2D_keypoints/openpose_output/output/G3k86AVFwVs_15-5-rgb_front', '/content/drive/MyDrive/test_2D_keypoints/openpose_output/output/G3VM7etNABI_2_3-10-rgb_front', '/content/drive/MyDrive/test_2D_keypoints/openpose_output/output/G3VM7etNABI_2_3-5-rgb_front', '/content/drive/MyDrive/test_2D_keypoints/openpose_output/output/g3kFAmcBpFc_0_1_3-3-rgb_front', '/content/drive/MyDrive/test_2D_keypoints/openpose_output/output/_FzvMVnR_aU_1-5-rgb_front', '/content/drive/MyDrive/test_2D_keypoints/openpose_output/output/G3VM7etNABI_6-10-rgb_front', '/content/drive/MyDrive/test_2D_keypoints/openpose_output/output/_FzvMVnR_aU_2-5-rgb_front', '/content/drive/MyDrive/test_2D_keypoints/openpose_output/output/G3VM7etNABI_6-5-rgb_front', '/content/drive/MyDrive/test_2D_keypoints/openpose_output/output/_FzvMVnR_aU_3-5-rgb_front', '/content/drive/MyDrive/test_2D_keypoints/openpose_output/output/_g0fpC8aiME_1-5-rgb_front', '/content/drive/MyDrive/test_2D_keypoints/openpose_output/output/_g0fpC8aiME_3-5-rgb_front', '/content/drive/MyDrive/test_2D_keypoints/openpose_output/output/_G0MZFLIHa0_0_1_2-5-rgb_front', '/content/drive/MyDrive/test_2D_keypoints/openpose_output/output/_G0MZFLIHa0_10-5-rgb_front', '/content/drive/MyDrive/test_2D_keypoints/openpose_output/output/_G0MZFLIHa0_8-5-rgb_front', '/content/drive/MyDrive/test_2D_keypoints/openpose_output/output/_G0MZFLIHa0_9-5-rgb_front', '/content/drive/MyDrive/test_2D_keypoints/openpose_output/output/-fZc293MpJk_0-1-rgb_front', '/content/drive/MyDrive/test_2D_keypoints/openpose_output/output/FZCEymcpq7I_13-1-rgb_front', '/content/drive/MyDrive/test_2D_keypoints/openpose_output/output/FZCEymcpq7I_15-1-rgb_front', '/content/drive/MyDrive/test_2D_keypoints/openpose_output/output/-fZc293MpJk_2-1-rgb_front', '/content/drive/MyDrive/test_2D_keypoints/openpose_output/output/FZCEymcpq7I_14-1-rgb_front', '/content/drive/MyDrive/test_2D_keypoints/openpose_output/output/FzOQMA-CVPc_5-2-rgb_front', '/content/drive/MyDrive/test_2D_keypoints/openpose_output/output/FzOQMA-CVPc_6-2-rgb_front', '/content/drive/MyDrive/test_2D_keypoints/openpose_output/output/FZLxEwsoc1c_2-8-rgb_front', '/content/drive/MyDrive/test_2D_keypoints/openpose_output/output/FzOQMA-CVPc_4-2-rgb_front', '/content/drive/MyDrive/test_2D_keypoints/openpose_output/output/FZCEymcpq7I_2-1-rgb_front', '/content/drive/MyDrive/test_2D_keypoints/openpose_output/output/FZLxEwsoc1c_4-8-rgb_front', '/content/drive/MyDrive/test_2D_keypoints/openpose_output/output/FZLxEwsoc1c_3-8-rgb_front', '/content/drive/MyDrive/test_2D_keypoints/openpose_output/output/-fZc293MpJk_3-1-rgb_front', '/content/drive/MyDrive/test_2D_keypoints/openpose_output/output/FZCEymcpq7I_16-1-rgb_front', '/content/drive/MyDrive/test_2D_keypoints/openpose_output/output/FzOQMA-CVPc_7-2-rgb_front', '/content/drive/MyDrive/test_2D_keypoints/openpose_output/output/FzOQMA-CVPc_8-2-rgb_front', '/content/drive/MyDrive/test_2D_keypoints/openpose_output/output/FZLxEwsoc1c_5-8-rgb_front', '/content/drive/MyDrive/test_2D_keypoints/openpose_output/output/FZLxEwsoc1c_6-8-rgb_front', '/content/drive/MyDrive/test_2D_keypoints/openpose_output/output/FZCEymcpq7I_3-1-rgb_front', '/content/drive/MyDrive/test_2D_keypoints/openpose_output/output/-fZc293MpJk_4-1-rgb_front', '/content/drive/MyDrive/test_2D_keypoints/openpose_output/output/FZLxEwsoc1c_8-8-rgb_front', '/content/drive/MyDrive/test_2D_keypoints/openpose_output/output/FZLxEwsoc1c_7-8-rgb_front', '/content/drive/MyDrive/test_2D_keypoints/openpose_output/output/fZM3IcM2Xs4_1-5-rgb_front', '/content/drive/MyDrive/test_2D_keypoints/openpose_output/output/FZCEymcpq7I_4-1-rgb_front', '/content/drive/MyDrive/test_2D_keypoints/openpose_output/output/fZM3IcM2Xs4_0-8-rgb_front', '/content/drive/MyDrive/test_2D_keypoints/openpose_output/output/fZM3IcM2Xs4_0-10-rgb_front', '/content/drive/MyDrive/test_2D_keypoints/openpose_output/output/FZCEymcpq7I_5-1-rgb_front', '/content/drive/MyDrive/test_2D_keypoints/openpose_output/output/fZM3IcM2Xs4_0-5-rgb_front', '/content/drive/MyDrive/test_2D_keypoints/openpose_output/output/-fZc293MpJk_5-1-rgb_front', '/content/drive/MyDrive/test_2D_keypoints/openpose_output/output/fZM3IcM2Xs4_1-10-rgb_front', '/content/drive/MyDrive/test_2D_keypoints/openpose_output/output/-fZc293MpJk_6-1-rgb_front', '/content/drive/MyDrive/test_2D_keypoints/openpose_output/output/FzOQMA-CVPc_9-2-rgb_front', '/content/drive/MyDrive/test_2D_keypoints/openpose_output/output/FZCEymcpq7I_6-1-rgb_front', '/content/drive/MyDrive/test_2D_keypoints/openpose_output/output/FzoUVr98JmQ_1-8-rgb_front', '/content/drive/MyDrive/test_2D_keypoints/openpose_output/output/fZM3IcM2Xs4_1-8-rgb_front', '/content/drive/MyDrive/test_2D_keypoints/openpose_output/output/FzoUVr98JmQ_0-8-rgb_front', '/content/drive/MyDrive/test_2D_keypoints/openpose_output/output/FZCEymcpq7I_8-1-rgb_front', '/content/drive/MyDrive/test_2D_keypoints/openpose_output/output/FzoUVr98JmQ_2-8-rgb_front', '/content/drive/MyDrive/test_2D_keypoints/openpose_output/output/FzoUVr98JmQ_5-8-rgb_front', '/content/drive/MyDrive/test_2D_keypoints/openpose_output/output/FZCEymcpq7I_7-1-rgb_front', '/content/drive/MyDrive/test_2D_keypoints/openpose_output/output/FzoUVr98JmQ_10-8-rgb_front', '/content/drive/MyDrive/test_2D_keypoints/openpose_output/output/FzoUVr98JmQ_4-8-rgb_front', '/content/drive/MyDrive/test_2D_keypoints/openpose_output/output/fZM3IcM2Xs4_10_11_12_13-10-rgb_front', '/content/drive/MyDrive/test_2D_keypoints/openpose_output/output/FZCEymcpq7I_9-1-rgb_front', '/content/drive/MyDrive/test_2D_keypoints/openpose_output/output/-fZc293MpJk_7-1-rgb_front', '/content/drive/MyDrive/test_2D_keypoints/openpose_output/output/-g0iPSnQt6w_0-1-rgb_front', '/content/drive/MyDrive/test_2D_keypoints/openpose_output/output/FZCF7kPIyOk_1-1-rgb_front', '/content/drive/MyDrive/test_2D_keypoints/openpose_output/output/FZCF7kPIyOk_10-1-rgb_front', '/content/drive/MyDrive/test_2D_keypoints/openpose_output/output/FzoUVr98JmQ_6-8-rgb_front', '/content/drive/MyDrive/test_2D_keypoints/openpose_output/output/fZM3IcM2Xs4_10_11_12_13-5-rgb_front', '/content/drive/MyDrive/test_2D_keypoints/openpose_output/output/FzoUVr98JmQ_7-8-rgb_front', '/content/drive/MyDrive/test_2D_keypoints/openpose_output/output/FZCF7kPIyOk_11-1-rgb_front', '/content/drive/MyDrive/test_2D_keypoints/openpose_output/output/fZM3IcM2Xs4_10_11_12_13-8-rgb_front', '/content/drive/MyDrive/test_2D_keypoints/openpose_output/output/FzoUVr98JmQ_9-8-rgb_front', '/content/drive/MyDrive/test_2D_keypoints/openpose_output/output/FzoUVr98JmQ_8-8-rgb_front', '/content/drive/MyDrive/test_2D_keypoints/openpose_output/output/-g0iPSnQt6w_1-1-rgb_front', '/content/drive/MyDrive/test_2D_keypoints/openpose_output/output/fzQ2E3_xBZA_1-8-rgb_front', '/content/drive/MyDrive/test_2D_keypoints/openpose_output/output/fzQ2E3_xBZA_0-8-rgb_front', '/content/drive/MyDrive/test_2D_keypoints/openpose_output/output/fzQ2E3_xBZA_0-5-rgb_front', '/content/drive/MyDrive/test_2D_keypoints/openpose_output/output/-g0iPSnQt6w_10-1-rgb_front', '/content/drive/MyDrive/test_2D_keypoints/openpose_output/output/fzQ2E3_xBZA_1-5-rgb_front', '/content/drive/MyDrive/test_2D_keypoints/openpose_output/output/FZCF7kPIyOk_12-1-rgb_front', '/content/drive/MyDrive/test_2D_keypoints/openpose_output/output/-g0iPSnQt6w_12-1-rgb_front', '/content/drive/MyDrive/test_2D_keypoints/openpose_output/output/fzQ2E3_xBZA_10-8-rgb_front', '/content/drive/MyDrive/test_2D_keypoints/openpose_output/output/-g0iPSnQt6w_11-1-rgb_front', '/content/drive/MyDrive/test_2D_keypoints/openpose_output/output/fZM3IcM2Xs4_14_15_16-10-rgb_front', '/content/drive/MyDrive/test_2D_keypoints/openpose_output/output/FZCF7kPIyOk_13-1-rgb_front', '/content/drive/MyDrive/test_2D_keypoints/openpose_output/output/fzQ2E3_xBZA_10-5-rgb_front', '/content/drive/MyDrive/test_2D_keypoints/openpose_output/output/FZCF7kPIyOk_15-1-rgb_front', '/content/drive/MyDrive/test_2D_keypoints/openpose_output/output/fzQ2E3_xBZA_11-8-rgb_front', '/content/drive/MyDrive/test_2D_keypoints/openpose_output/output/fzQ2E3_xBZA_11-5-rgb_front', '/content/drive/MyDrive/test_2D_keypoints/openpose_output/output/-g0iPSnQt6w_13-1-rgb_front', '/content/drive/MyDrive/test_2D_keypoints/openpose_output/output/FZCF7kPIyOk_14-1-rgb_front', '/content/drive/MyDrive/test_2D_keypoints/openpose_output/output/fzQ2E3_xBZA_13-8-rgb_front', '/content/drive/MyDrive/test_2D_keypoints/openpose_output/output/fzQ2E3_xBZA_13-5-rgb_front', '/content/drive/MyDrive/test_2D_keypoints/openpose_output/output/-g0iPSnQt6w_16-1-rgb_front', '/content/drive/MyDrive/test_2D_keypoints/openpose_output/output/fzQ2E3_xBZA_12-8-rgb_front', '/content/drive/MyDrive/test_2D_keypoints/openpose_output/output/-g0iPSnQt6w_14-1-rgb_front', '/content/drive/MyDrive/test_2D_keypoints/openpose_output/output/fZM3IcM2Xs4_14_15_16-5-rgb_front', '/content/drive/MyDrive/test_2D_keypoints/openpose_output/output/FZCF7kPIyOk_17-1-rgb_front', '/content/drive/MyDrive/test_2D_keypoints/openpose_output/output/fzQ2E3_xBZA_12-5-rgb_front', '/content/drive/MyDrive/test_2D_keypoints/openpose_output/output/-g0iPSnQt6w_15-1-rgb_front', '/content/drive/MyDrive/test_2D_keypoints/openpose_output/output/FZCF7kPIyOk_16-1-rgb_front', '/content/drive/MyDrive/test_2D_keypoints/openpose_output/output/-g0iPSnQt6w_2-1-rgb_front', '/content/drive/MyDrive/test_2D_keypoints/openpose_output/output/FZCF7kPIyOk_18-1-rgb_front', '/content/drive/MyDrive/test_2D_keypoints/openpose_output/output/fzQ2E3_xBZA_14-5-rgb_front', '/content/drive/MyDrive/test_2D_keypoints/openpose_output/output/FZCF7kPIyOk_2-1-rgb_front', '/content/drive/MyDrive/test_2D_keypoints/openpose_output/output/-g0iPSnQt6w_3-1-rgb_front', '/content/drive/MyDrive/test_2D_keypoints/openpose_output/output/fzQ2E3_xBZA_16-5-rgb_front', '/content/drive/MyDrive/test_2D_keypoints/openpose_output/output/fZM3IcM2Xs4_14_15_16-8-rgb_front', '/content/drive/MyDrive/test_2D_keypoints/openpose_output/output/fzQ2E3_xBZA_15-5-rgb_front', '/content/drive/MyDrive/test_2D_keypoints/openpose_output/output/fZM3IcM2Xs4_17-10-rgb_front', '/content/drive/MyDrive/test_2D_keypoints/openpose_output/output/fzQ2E3_xBZA_16-8-rgb_front', '/content/drive/MyDrive/test_2D_keypoints/openpose_output/output/fzQ2E3_xBZA_15-8-rgb_front', '/content/drive/MyDrive/test_2D_keypoints/openpose_output/output/fzQ2E3_xBZA_14-8-rgb_front', '/content/drive/MyDrive/test_2D_keypoints/openpose_output/output/fZM3IcM2Xs4_17-5-rgb_front', '/content/drive/MyDrive/test_2D_keypoints/openpose_output/output/FZCF7kPIyOk_3-1-rgb_front', '/content/drive/MyDrive/test_2D_keypoints/openpose_output/output/fZM3IcM2Xs4_17-8-rgb_front', '/content/drive/MyDrive/test_2D_keypoints/openpose_output/output/fzQ2E3_xBZA_17-8-rgb_front', '/content/drive/MyDrive/test_2D_keypoints/openpose_output/output/FZCF7kPIyOk_4-1-rgb_front', '/content/drive/MyDrive/test_2D_keypoints/openpose_output/output/FZCF7kPIyOk_5-1-rgb_front', '/content/drive/MyDrive/test_2D_keypoints/openpose_output/output/fZM3IcM2Xs4_2-10-rgb_front', '/content/drive/MyDrive/test_2D_keypoints/openpose_output/output/fzQ2E3_xBZA_17-5-rgb_front', '/content/drive/MyDrive/test_2D_keypoints/openpose_output/output/-g0iPSnQt6w_5-1-rgb_front']\n",
            "(1104, 512, 183) (1104,)\n"
          ]
        }
      ]
    },
    {
      "cell_type": "code",
      "source": [
        "from transformers import T5ForConditionalGeneration, T5Tokenizer\n",
        "import torch\n",
        "import torch.nn as nn\n",
        "from torch.utils.data import DataLoader\n",
        "\n",
        "patch_dim=183\n",
        "max_frames=512\n",
        "dim=1\n",
        "class T5WithProjection(nn.Module):\n",
        "    def __init__(self, t5_model_name, embed_dim):\n",
        "        super(T5WithProjection, self).__init__()\n",
        "        self.t5 = T5ForConditionalGeneration.from_pretrained('t5-small')\n",
        "        self.projection = PatchEmbedding(patch_dim,max_frames,dim)\n",
        "\n",
        "    def forward(self, input_ids, attention_mask=None, labels=None):\n",
        "         # Apply linear projection\n",
        "        input_ids = self.projection(outputs.logits)  # Apply projection to logits\n",
        "        # Forward pass through T5 model\n",
        "        outputs = self.t5(input_ids=input_ids, attention_mask=attention_mask, labels=labels)\n",
        "\n",
        "        return outputs\n",
        "\n",
        "# Initialize the model with projection\n",
        "embed_dim = 1  # Adjust according to your T5 model's hidden size\n",
        "model = T5WithProjection('t5-small', embed_dim)\n"
      ],
      "metadata": {
        "id": "8gSeFAl0uYFV"
      },
      "execution_count": 15,
      "outputs": []
    },
    {
      "cell_type": "code",
      "source": [
        "import torch\n",
        "from transformers import AdamW, T5ForConditionalGeneration, T5Tokenizer\n",
        "from tqdm import tqdm\n",
        "import torch.nn as nn\n",
        "from torch.utils.data import DataLoader, Dataset\n",
        "\n",
        "# Define the How2signDataset class\n",
        "class How2signDataset(Dataset):\n",
        "    def __init__(self, tokenizer, max_len):\n",
        "        self.tokenizer = tokenizer\n",
        "        self.max_len = max_len\n",
        "        # Load your dataset here. This is just a placeholder.\n",
        "        self.data = [\n",
        "            {\"input_text\": \"Translate this text to sign language.\", \"target_text\": \"some_translation\"},\n",
        "            # Add more data samples\n",
        "        ]\n",
        "\n",
        "    def __len__(self):\n",
        "        return len(self.data)\n",
        "\n",
        "    def __getitem__(self, idx):\n",
        "        item = self.data[idx]\n",
        "        input_text = item['input_text']\n",
        "        target_text = item['target_text']\n",
        "\n",
        "        # Tokenize the input and target text\n",
        "        inputs = self.tokenizer.encode_plus(\n",
        "            input_text,\n",
        "            max_length=self.max_len,\n",
        "            padding='max_length',\n",
        "            truncation=True,\n",
        "            return_tensors='pt'\n",
        "        )\n",
        "\n",
        "        targets = self.tokenizer.encode_plus(\n",
        "            target_text,\n",
        "            max_length=self.max_len,\n",
        "            padding='max_length',\n",
        "            truncation=True,\n",
        "            return_tensors='pt'\n",
        "        )\n",
        "\n",
        "        return {\n",
        "            'input_ids': inputs['input_ids'].squeeze(),  # Remove extra dimension\n",
        "            'attention_mask': inputs['attention_mask'].squeeze(),\n",
        "            'labels': targets['input_ids'].squeeze()  # Use input_ids as labels\n",
        "        }\n",
        "\n",
        "# Define the device\n",
        "device = torch.device('cuda' if torch.cuda.is_available() else 'cpu')\n",
        "\n",
        "# Initialize the model and tokenizer\n",
        "model = T5ForConditionalGeneration.from_pretrained('t5-small')\n",
        "model.to(device)\n",
        "tokenizer = T5Tokenizer.from_pretrained('t5-small')\n",
        "\n",
        "# Initialize the optimizer\n",
        "optimizer = AdamW(model.parameters(), lr=5e-5)\n",
        "\n",
        "# Define your dataset and dataloader\n",
        "max_len = 512\n",
        "train_dataset = How2signDataset(tokenizer, max_len)\n",
        "train_dataloader = DataLoader(train_dataset, batch_size=8, shuffle=True)\n",
        "\n",
        "# Define the training function\n",
        "def train_epoch(model, dataloader, optimizer, device):\n",
        "    model.train()\n",
        "    total_loss = 0\n",
        "    for batch in dataloader:\n",
        "        input_ids = batch['input_ids'].to(device)\n",
        "        attention_mask = batch['attention_mask'].to(device)\n",
        "        labels = batch['labels'].to(device)\n",
        "        outputs = model(input_ids=input_ids, attention_mask=attention_mask, labels=labels)\n",
        "        loss = outputs.loss\n",
        "        optimizer.zero_grad()\n",
        "        loss.backward()\n",
        "        optimizer.step()\n",
        "        total_loss += loss.item()\n",
        "    return total_loss / len(dataloader)\n",
        "\n",
        "# Train the model\n",
        "for epoch in range(3):  # Number of epochs\n",
        "    train_loss = train_epoch(model, train_dataloader, optimizer, device)\n",
        "    print(f\"Epoch {epoch + 1}: Training loss = {train_loss:.4f}\")\n"
      ],
      "metadata": {
        "colab": {
          "base_uri": "https://localhost:8080/",
          "height": 0
        },
        "id": "5xhEUUqZxTW_",
        "outputId": "8963a642-99b3-42e8-ede6-684caa5e45a1"
      },
      "execution_count": 16,
      "outputs": [
        {
          "output_type": "stream",
          "name": "stderr",
          "text": [
            "/usr/local/lib/python3.10/dist-packages/transformers/optimization.py:591: FutureWarning: This implementation of AdamW is deprecated and will be removed in a future version. Use the PyTorch implementation torch.optim.AdamW instead, or set `no_deprecation_warning=True` to disable this warning\n",
            "  warnings.warn(\n"
          ]
        },
        {
          "output_type": "stream",
          "name": "stdout",
          "text": [
            "Epoch 1: Training loss = 7.4362\n",
            "Epoch 2: Training loss = 9.5622\n",
            "Epoch 3: Training loss = 8.0334\n"
          ]
        }
      ]
    },
    {
      "cell_type": "code",
      "source": [
        "# Save the model\n",
        "model.save_pretrained('t5-with-projection')\n",
        "tokenizer.save_pretrained('t5-with-projection')"
      ],
      "metadata": {
        "id": "ZemyoxGT5jlw",
        "colab": {
          "base_uri": "https://localhost:8080/",
          "height": 0
        },
        "outputId": "c0baafe7-cfdf-4dca-e167-fceeb0d4272c"
      },
      "execution_count": 17,
      "outputs": [
        {
          "output_type": "execute_result",
          "data": {
            "text/plain": [
              "('t5-with-projection/tokenizer_config.json',\n",
              " 't5-with-projection/special_tokens_map.json',\n",
              " 't5-with-projection/spiece.model',\n",
              " 't5-with-projection/added_tokens.json')"
            ]
          },
          "metadata": {},
          "execution_count": 17
        }
      ]
    }
  ],
  "metadata": {
    "colab": {
      "provenance": []
    },
    "kernelspec": {
      "display_name": "Python 3",
      "name": "python3"
    },
    "language_info": {
      "name": "python"
    }
  },
  "nbformat": 4,
  "nbformat_minor": 0
}